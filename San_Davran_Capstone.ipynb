{
  "nbformat": 4,
  "nbformat_minor": 0,
  "metadata": {
    "colab": {
      "provenance": []
    },
    "kernelspec": {
      "name": "python3",
      "display_name": "Python 3"
    },
    "language_info": {
      "name": "python"
    }
  },
  "cells": [
    {
      "cell_type": "markdown",
      "source": [
        "# Capstone Project: Consumer Insights Data Analytics Externship of Beats by Dre"
      ],
      "metadata": {
        "id": "IydAmVbUe5No"
      }
    },
    {
      "cell_type": "markdown",
      "source": [
        "## 1. Title Page\n",
        "**Project Title:** Consumer Insights Data Analytics Externship of Beats by Dre  \n",
        "**Student Name:** San Davran\n",
        "**Date:** 09/01/2024"
      ],
      "metadata": {
        "id": "9NNnXrCxfZm5"
      }
    },
    {
      "cell_type": "markdown",
      "source": [
        "## 2. Table of Contents\n",
        "1. Title Page\n",
        "2. Table of Contents\n",
        "3. Introduction\n",
        "4. Data Description\n",
        "5. Exploratory Data Analysis (EDA)\n",
        "6. Sentiment Analysis\n",
        "7. AI-Generated Insights\n",
        "8. Comparative Analysis\n",
        "9. Strategic Recommendations\n",
        "10. Conclusion"
      ],
      "metadata": {
        "id": "EcaUG1uyfeiS"
      }
    },
    {
      "cell_type": "markdown",
      "source": [
        "## 3. Introduction\n",
        "\n",
        "### 3.1 Project Overview"
      ],
      "metadata": {
        "id": "jbYdV2Rbf0AD"
      }
    },
    {
      "cell_type": "markdown",
      "source": [
        "- The purpose of this project is to leverage extensive data from E-commerce platforms to provide data-driven recommendations to Beats by Dre. By analyzing customer feedback and purchasing patterns, the project aims to identify product improvements and optimize marketing strategies to better meet consumer needs and enhance the brand’s market presence."
      ],
      "metadata": {
        "id": "DicsasKfYpuP"
      }
    },
    {
      "cell_type": "markdown",
      "source": [
        "### 3.2 Background"
      ],
      "metadata": {
        "id": "gsPiaY4Zf6bZ"
      }
    },
    {
      "cell_type": "markdown",
      "source": [
        "- Beats by Dre, a subsidiary of Apple Inc., is a leading brand in the audio technology industry, known for its premium headphones, earbuds, and speakers. Since its founding in 2006 by Dr. Dre and Jimmy Iovine, the brand has positioned itself at the intersection of high-quality sound engineering and cultural relevance, particularly in music and sports. Beats products are often associated with stylish design and powerful bass, making them popular among a broad range of consumers.\n",
        "\n",
        "- In the tech industry, consumer sentiment analysis is crucial for brands like Beats by Dre. It involves examining customer feedback, reviews, and social media discussions to gauge public perception of products and services. This analysis provides valuable insights into consumer preferences, pain points, and emerging trends. For a brand that competes in a rapidly evolving market, understanding consumer sentiment is vital for staying ahead of competitors, refining product offerings, and crafting effective marketing strategies. By responding to consumer feedback, companies like Beats by Dre can enhance user experience, build brand loyalty, and drive sales growth in a competitive landscape."
      ],
      "metadata": {
        "id": "djmTk6CzZRN2"
      }
    },
    {
      "cell_type": "markdown",
      "source": [
        "## 4. Data Description\n",
        "\n",
        "### 4.1 Data Sources"
      ],
      "metadata": {
        "id": "oL_6d6NngA_2"
      }
    },
    {
      "cell_type": "markdown",
      "source": [
        "**Data Source.**\n",
        "\n",
        "- Amazon reviews."
      ],
      "metadata": {
        "id": "lzKzux45ZYuu"
      }
    },
    {
      "cell_type": "markdown",
      "source": [
        "### 4.2 Data Collection"
      ],
      "metadata": {
        "id": "8KD8d0nXgCAy"
      }
    },
    {
      "cell_type": "markdown",
      "source": [
        "- To gather the data needed for analysis, I wrote a script utilizing the OxyLabs API to extract reviews from Amazon. E-commerce platforms like Amazon have robust systems in place to prevent data mining, making it challenging to obtain this information. However, by carefully varying certain characteristics of the queries, I was able to successfully retrieve 1,000 rows of data, with 100 reviews for each product. This dataset is crucial for performing a comprehensive sentiment analysis, which will inform our recommendations to Beats by Dre."
      ],
      "metadata": {
        "id": "9elxnNARZhZq"
      }
    },
    {
      "cell_type": "markdown",
      "source": [
        "### 4.3 Data Cleaning"
      ],
      "metadata": {
        "id": "dnCMjSjegE55"
      }
    },
    {
      "cell_type": "code",
      "source": [
        "import pandas as pd"
      ],
      "metadata": {
        "id": "rOutGedq4gzd"
      },
      "execution_count": null,
      "outputs": []
    },
    {
      "cell_type": "code",
      "source": [
        "df = pd.read_csv(\"/content/merge_df.csv\")"
      ],
      "metadata": {
        "id": "7jTSvQP64jN5"
      },
      "execution_count": null,
      "outputs": []
    },
    {
      "cell_type": "code",
      "source": [
        "df.info()"
      ],
      "metadata": {
        "colab": {
          "base_uri": "https://localhost:8080/"
        },
        "id": "tSY3cVNg4kxi",
        "outputId": "e61a1f23-296a-451f-c9c7-ad3fe8c933e2"
      },
      "execution_count": null,
      "outputs": [
        {
          "output_type": "stream",
          "name": "stdout",
          "text": [
            "<class 'pandas.core.frame.DataFrame'>\n",
            "RangeIndex: 1000 entries, 0 to 999\n",
            "Data columns (total 11 columns):\n",
            " #   Column              Non-Null Count  Dtype \n",
            "---  ------              --------------  ----- \n",
            " 0   review_id           1000 non-null   object\n",
            " 1   product_id          1000 non-null   object\n",
            " 2   title               1000 non-null   object\n",
            " 3   author              1000 non-null   object\n",
            " 4   rating              1000 non-null   int64 \n",
            " 5   content             1000 non-null   object\n",
            " 6   timestamp           1000 non-null   object\n",
            " 7   profile_id          1000 non-null   object\n",
            " 8   is_verified         1000 non-null   bool  \n",
            " 9   helpful_count       1000 non-null   int64 \n",
            " 10  product_attributes  967 non-null    object\n",
            "dtypes: bool(1), int64(2), object(8)\n",
            "memory usage: 79.2+ KB\n"
          ]
        }
      ]
    },
    {
      "cell_type": "code",
      "source": [
        "df.head()"
      ],
      "metadata": {
        "colab": {
          "base_uri": "https://localhost:8080/",
          "height": 591
        },
        "id": "z8cHkTAo4k8O",
        "outputId": "1aa0aabd-48a6-4186-e113-e04a57faf950"
      },
      "execution_count": null,
      "outputs": [
        {
          "output_type": "execute_result",
          "data": {
            "text/plain": [
              "        review_id  product_id  \\\n",
              "0  R1F236Q566CSRQ  B07PXGQC1Q   \n",
              "1  R2QGEC3WRQRMLX  B07PXGQC1Q   \n",
              "2  R1L7RJCQRMP8HZ  B07PXGQC1Q   \n",
              "3  R2J13VIR7YF41K  B07PXGQC1Q   \n",
              "4  R2HFARWKGGKX25  B07PXGQC1Q   \n",
              "\n",
              "                                               title                author  \\\n",
              "0  5.0 out of 5 stars **⭐️⭐️⭐️⭐️⭐️ Best Wireless ...  Christopher Domenici   \n",
              "1                  5.0 out of 5 stars Very practical                 renee   \n",
              "2  5.0 out of 5 stars Perfect balance of convenie...      Vinay Medishetty   \n",
              "3                   5.0 out of 5 stars Excellent buy               Macu DS   \n",
              "4         5.0 out of 5 stars Great quality and price                  Ruby   \n",
              "\n",
              "   rating                                            content  \\\n",
              "0       5  I recently purchased the Apple AirPods (2nd Ge...   \n",
              "1       5  Taking the Apple AirPods at face value, they'r...   \n",
              "2       5  The media could not be loaded. I recently purc...   \n",
              "3       5  I recently purchased these headphones, and I c...   \n",
              "4       5  Most “official” websites and stores have these...   \n",
              "\n",
              "                                        timestamp  \\\n",
              "0     Reviewed in the United States July 24, 2024   \n",
              "1  Reviewed in the United States October 19, 2023   \n",
              "2      Reviewed in the United States July 9, 2024   \n",
              "3     Reviewed in the United States July 31, 2024   \n",
              "4     Reviewed in the United States July 29, 2024   \n",
              "\n",
              "                     profile_id  is_verified  helpful_count  \\\n",
              "0  AGRIDBGN53EGTU3SUFCAVHTUS2XA         True             21   \n",
              "1  AEYO6M357PGA7I2MHHB2FQ5FSDEA         True            224   \n",
              "2  AGJEEE2NO5K4FZZH3ANG2YCS3Y6Q         True             25   \n",
              "3  AGNOQXDLLSQUEC2SHCGLECIMILIQ         True              2   \n",
              "4  AEDFNJY4VWMPWWFQ4DNMTS2OJDPA         True              3   \n",
              "\n",
              "        product_attributes  \n",
              "0  Set: Without AppleCare+  \n",
              "1  Set: Without AppleCare+  \n",
              "2  Set: Without AppleCare+  \n",
              "3  Set: Without AppleCare+  \n",
              "4  Set: Without AppleCare+  "
            ],
            "text/html": [
              "\n",
              "  <div id=\"df-d1b47b4d-285d-4f1d-8cf0-f9cd357a5e6d\" class=\"colab-df-container\">\n",
              "    <div>\n",
              "<style scoped>\n",
              "    .dataframe tbody tr th:only-of-type {\n",
              "        vertical-align: middle;\n",
              "    }\n",
              "\n",
              "    .dataframe tbody tr th {\n",
              "        vertical-align: top;\n",
              "    }\n",
              "\n",
              "    .dataframe thead th {\n",
              "        text-align: right;\n",
              "    }\n",
              "</style>\n",
              "<table border=\"1\" class=\"dataframe\">\n",
              "  <thead>\n",
              "    <tr style=\"text-align: right;\">\n",
              "      <th></th>\n",
              "      <th>review_id</th>\n",
              "      <th>product_id</th>\n",
              "      <th>title</th>\n",
              "      <th>author</th>\n",
              "      <th>rating</th>\n",
              "      <th>content</th>\n",
              "      <th>timestamp</th>\n",
              "      <th>profile_id</th>\n",
              "      <th>is_verified</th>\n",
              "      <th>helpful_count</th>\n",
              "      <th>product_attributes</th>\n",
              "    </tr>\n",
              "  </thead>\n",
              "  <tbody>\n",
              "    <tr>\n",
              "      <th>0</th>\n",
              "      <td>R1F236Q566CSRQ</td>\n",
              "      <td>B07PXGQC1Q</td>\n",
              "      <td>5.0 out of 5 stars **⭐️⭐️⭐️⭐️⭐️ Best Wireless ...</td>\n",
              "      <td>Christopher Domenici</td>\n",
              "      <td>5</td>\n",
              "      <td>I recently purchased the Apple AirPods (2nd Ge...</td>\n",
              "      <td>Reviewed in the United States July 24, 2024</td>\n",
              "      <td>AGRIDBGN53EGTU3SUFCAVHTUS2XA</td>\n",
              "      <td>True</td>\n",
              "      <td>21</td>\n",
              "      <td>Set: Without AppleCare+</td>\n",
              "    </tr>\n",
              "    <tr>\n",
              "      <th>1</th>\n",
              "      <td>R2QGEC3WRQRMLX</td>\n",
              "      <td>B07PXGQC1Q</td>\n",
              "      <td>5.0 out of 5 stars Very practical</td>\n",
              "      <td>renee</td>\n",
              "      <td>5</td>\n",
              "      <td>Taking the Apple AirPods at face value, they'r...</td>\n",
              "      <td>Reviewed in the United States October 19, 2023</td>\n",
              "      <td>AEYO6M357PGA7I2MHHB2FQ5FSDEA</td>\n",
              "      <td>True</td>\n",
              "      <td>224</td>\n",
              "      <td>Set: Without AppleCare+</td>\n",
              "    </tr>\n",
              "    <tr>\n",
              "      <th>2</th>\n",
              "      <td>R1L7RJCQRMP8HZ</td>\n",
              "      <td>B07PXGQC1Q</td>\n",
              "      <td>5.0 out of 5 stars Perfect balance of convenie...</td>\n",
              "      <td>Vinay Medishetty</td>\n",
              "      <td>5</td>\n",
              "      <td>The media could not be loaded. I recently purc...</td>\n",
              "      <td>Reviewed in the United States July 9, 2024</td>\n",
              "      <td>AGJEEE2NO5K4FZZH3ANG2YCS3Y6Q</td>\n",
              "      <td>True</td>\n",
              "      <td>25</td>\n",
              "      <td>Set: Without AppleCare+</td>\n",
              "    </tr>\n",
              "    <tr>\n",
              "      <th>3</th>\n",
              "      <td>R2J13VIR7YF41K</td>\n",
              "      <td>B07PXGQC1Q</td>\n",
              "      <td>5.0 out of 5 stars Excellent buy</td>\n",
              "      <td>Macu DS</td>\n",
              "      <td>5</td>\n",
              "      <td>I recently purchased these headphones, and I c...</td>\n",
              "      <td>Reviewed in the United States July 31, 2024</td>\n",
              "      <td>AGNOQXDLLSQUEC2SHCGLECIMILIQ</td>\n",
              "      <td>True</td>\n",
              "      <td>2</td>\n",
              "      <td>Set: Without AppleCare+</td>\n",
              "    </tr>\n",
              "    <tr>\n",
              "      <th>4</th>\n",
              "      <td>R2HFARWKGGKX25</td>\n",
              "      <td>B07PXGQC1Q</td>\n",
              "      <td>5.0 out of 5 stars Great quality and price</td>\n",
              "      <td>Ruby</td>\n",
              "      <td>5</td>\n",
              "      <td>Most “official” websites and stores have these...</td>\n",
              "      <td>Reviewed in the United States July 29, 2024</td>\n",
              "      <td>AEDFNJY4VWMPWWFQ4DNMTS2OJDPA</td>\n",
              "      <td>True</td>\n",
              "      <td>3</td>\n",
              "      <td>Set: Without AppleCare+</td>\n",
              "    </tr>\n",
              "  </tbody>\n",
              "</table>\n",
              "</div>\n",
              "    <div class=\"colab-df-buttons\">\n",
              "\n",
              "  <div class=\"colab-df-container\">\n",
              "    <button class=\"colab-df-convert\" onclick=\"convertToInteractive('df-d1b47b4d-285d-4f1d-8cf0-f9cd357a5e6d')\"\n",
              "            title=\"Convert this dataframe to an interactive table.\"\n",
              "            style=\"display:none;\">\n",
              "\n",
              "  <svg xmlns=\"http://www.w3.org/2000/svg\" height=\"24px\" viewBox=\"0 -960 960 960\">\n",
              "    <path d=\"M120-120v-720h720v720H120Zm60-500h600v-160H180v160Zm220 220h160v-160H400v160Zm0 220h160v-160H400v160ZM180-400h160v-160H180v160Zm440 0h160v-160H620v160ZM180-180h160v-160H180v160Zm440 0h160v-160H620v160Z\"/>\n",
              "  </svg>\n",
              "    </button>\n",
              "\n",
              "  <style>\n",
              "    .colab-df-container {\n",
              "      display:flex;\n",
              "      gap: 12px;\n",
              "    }\n",
              "\n",
              "    .colab-df-convert {\n",
              "      background-color: #E8F0FE;\n",
              "      border: none;\n",
              "      border-radius: 50%;\n",
              "      cursor: pointer;\n",
              "      display: none;\n",
              "      fill: #1967D2;\n",
              "      height: 32px;\n",
              "      padding: 0 0 0 0;\n",
              "      width: 32px;\n",
              "    }\n",
              "\n",
              "    .colab-df-convert:hover {\n",
              "      background-color: #E2EBFA;\n",
              "      box-shadow: 0px 1px 2px rgba(60, 64, 67, 0.3), 0px 1px 3px 1px rgba(60, 64, 67, 0.15);\n",
              "      fill: #174EA6;\n",
              "    }\n",
              "\n",
              "    .colab-df-buttons div {\n",
              "      margin-bottom: 4px;\n",
              "    }\n",
              "\n",
              "    [theme=dark] .colab-df-convert {\n",
              "      background-color: #3B4455;\n",
              "      fill: #D2E3FC;\n",
              "    }\n",
              "\n",
              "    [theme=dark] .colab-df-convert:hover {\n",
              "      background-color: #434B5C;\n",
              "      box-shadow: 0px 1px 3px 1px rgba(0, 0, 0, 0.15);\n",
              "      filter: drop-shadow(0px 1px 2px rgba(0, 0, 0, 0.3));\n",
              "      fill: #FFFFFF;\n",
              "    }\n",
              "  </style>\n",
              "\n",
              "    <script>\n",
              "      const buttonEl =\n",
              "        document.querySelector('#df-d1b47b4d-285d-4f1d-8cf0-f9cd357a5e6d button.colab-df-convert');\n",
              "      buttonEl.style.display =\n",
              "        google.colab.kernel.accessAllowed ? 'block' : 'none';\n",
              "\n",
              "      async function convertToInteractive(key) {\n",
              "        const element = document.querySelector('#df-d1b47b4d-285d-4f1d-8cf0-f9cd357a5e6d');\n",
              "        const dataTable =\n",
              "          await google.colab.kernel.invokeFunction('convertToInteractive',\n",
              "                                                    [key], {});\n",
              "        if (!dataTable) return;\n",
              "\n",
              "        const docLinkHtml = 'Like what you see? Visit the ' +\n",
              "          '<a target=\"_blank\" href=https://colab.research.google.com/notebooks/data_table.ipynb>data table notebook</a>'\n",
              "          + ' to learn more about interactive tables.';\n",
              "        element.innerHTML = '';\n",
              "        dataTable['output_type'] = 'display_data';\n",
              "        await google.colab.output.renderOutput(dataTable, element);\n",
              "        const docLink = document.createElement('div');\n",
              "        docLink.innerHTML = docLinkHtml;\n",
              "        element.appendChild(docLink);\n",
              "      }\n",
              "    </script>\n",
              "  </div>\n",
              "\n",
              "\n",
              "<div id=\"df-6b26d925-3ddf-4e8f-b02e-34221aab5dd3\">\n",
              "  <button class=\"colab-df-quickchart\" onclick=\"quickchart('df-6b26d925-3ddf-4e8f-b02e-34221aab5dd3')\"\n",
              "            title=\"Suggest charts\"\n",
              "            style=\"display:none;\">\n",
              "\n",
              "<svg xmlns=\"http://www.w3.org/2000/svg\" height=\"24px\"viewBox=\"0 0 24 24\"\n",
              "     width=\"24px\">\n",
              "    <g>\n",
              "        <path d=\"M19 3H5c-1.1 0-2 .9-2 2v14c0 1.1.9 2 2 2h14c1.1 0 2-.9 2-2V5c0-1.1-.9-2-2-2zM9 17H7v-7h2v7zm4 0h-2V7h2v10zm4 0h-2v-4h2v4z\"/>\n",
              "    </g>\n",
              "</svg>\n",
              "  </button>\n",
              "\n",
              "<style>\n",
              "  .colab-df-quickchart {\n",
              "      --bg-color: #E8F0FE;\n",
              "      --fill-color: #1967D2;\n",
              "      --hover-bg-color: #E2EBFA;\n",
              "      --hover-fill-color: #174EA6;\n",
              "      --disabled-fill-color: #AAA;\n",
              "      --disabled-bg-color: #DDD;\n",
              "  }\n",
              "\n",
              "  [theme=dark] .colab-df-quickchart {\n",
              "      --bg-color: #3B4455;\n",
              "      --fill-color: #D2E3FC;\n",
              "      --hover-bg-color: #434B5C;\n",
              "      --hover-fill-color: #FFFFFF;\n",
              "      --disabled-bg-color: #3B4455;\n",
              "      --disabled-fill-color: #666;\n",
              "  }\n",
              "\n",
              "  .colab-df-quickchart {\n",
              "    background-color: var(--bg-color);\n",
              "    border: none;\n",
              "    border-radius: 50%;\n",
              "    cursor: pointer;\n",
              "    display: none;\n",
              "    fill: var(--fill-color);\n",
              "    height: 32px;\n",
              "    padding: 0;\n",
              "    width: 32px;\n",
              "  }\n",
              "\n",
              "  .colab-df-quickchart:hover {\n",
              "    background-color: var(--hover-bg-color);\n",
              "    box-shadow: 0 1px 2px rgba(60, 64, 67, 0.3), 0 1px 3px 1px rgba(60, 64, 67, 0.15);\n",
              "    fill: var(--button-hover-fill-color);\n",
              "  }\n",
              "\n",
              "  .colab-df-quickchart-complete:disabled,\n",
              "  .colab-df-quickchart-complete:disabled:hover {\n",
              "    background-color: var(--disabled-bg-color);\n",
              "    fill: var(--disabled-fill-color);\n",
              "    box-shadow: none;\n",
              "  }\n",
              "\n",
              "  .colab-df-spinner {\n",
              "    border: 2px solid var(--fill-color);\n",
              "    border-color: transparent;\n",
              "    border-bottom-color: var(--fill-color);\n",
              "    animation:\n",
              "      spin 1s steps(1) infinite;\n",
              "  }\n",
              "\n",
              "  @keyframes spin {\n",
              "    0% {\n",
              "      border-color: transparent;\n",
              "      border-bottom-color: var(--fill-color);\n",
              "      border-left-color: var(--fill-color);\n",
              "    }\n",
              "    20% {\n",
              "      border-color: transparent;\n",
              "      border-left-color: var(--fill-color);\n",
              "      border-top-color: var(--fill-color);\n",
              "    }\n",
              "    30% {\n",
              "      border-color: transparent;\n",
              "      border-left-color: var(--fill-color);\n",
              "      border-top-color: var(--fill-color);\n",
              "      border-right-color: var(--fill-color);\n",
              "    }\n",
              "    40% {\n",
              "      border-color: transparent;\n",
              "      border-right-color: var(--fill-color);\n",
              "      border-top-color: var(--fill-color);\n",
              "    }\n",
              "    60% {\n",
              "      border-color: transparent;\n",
              "      border-right-color: var(--fill-color);\n",
              "    }\n",
              "    80% {\n",
              "      border-color: transparent;\n",
              "      border-right-color: var(--fill-color);\n",
              "      border-bottom-color: var(--fill-color);\n",
              "    }\n",
              "    90% {\n",
              "      border-color: transparent;\n",
              "      border-bottom-color: var(--fill-color);\n",
              "    }\n",
              "  }\n",
              "</style>\n",
              "\n",
              "  <script>\n",
              "    async function quickchart(key) {\n",
              "      const quickchartButtonEl =\n",
              "        document.querySelector('#' + key + ' button');\n",
              "      quickchartButtonEl.disabled = true;  // To prevent multiple clicks.\n",
              "      quickchartButtonEl.classList.add('colab-df-spinner');\n",
              "      try {\n",
              "        const charts = await google.colab.kernel.invokeFunction(\n",
              "            'suggestCharts', [key], {});\n",
              "      } catch (error) {\n",
              "        console.error('Error during call to suggestCharts:', error);\n",
              "      }\n",
              "      quickchartButtonEl.classList.remove('colab-df-spinner');\n",
              "      quickchartButtonEl.classList.add('colab-df-quickchart-complete');\n",
              "    }\n",
              "    (() => {\n",
              "      let quickchartButtonEl =\n",
              "        document.querySelector('#df-6b26d925-3ddf-4e8f-b02e-34221aab5dd3 button');\n",
              "      quickchartButtonEl.style.display =\n",
              "        google.colab.kernel.accessAllowed ? 'block' : 'none';\n",
              "    })();\n",
              "  </script>\n",
              "</div>\n",
              "\n",
              "    </div>\n",
              "  </div>\n"
            ],
            "application/vnd.google.colaboratory.intrinsic+json": {
              "type": "dataframe",
              "variable_name": "df",
              "summary": "{\n  \"name\": \"df\",\n  \"rows\": 1000,\n  \"fields\": [\n    {\n      \"column\": \"review_id\",\n      \"properties\": {\n        \"dtype\": \"string\",\n        \"num_unique_values\": 1000,\n        \"samples\": [\n          \"R2S82907S6U1LC\",\n          \"RREDY85TQQ1VC\",\n          \"R1YD9K64TBRG6N\"\n        ],\n        \"semantic_type\": \"\",\n        \"description\": \"\"\n      }\n    },\n    {\n      \"column\": \"product_id\",\n      \"properties\": {\n        \"dtype\": \"category\",\n        \"num_unique_values\": 10,\n        \"samples\": [\n          \"B09CGM1BWH\",\n          \"B0D1WXVQTN\",\n          \"B0B1N7RT74\"\n        ],\n        \"semantic_type\": \"\",\n        \"description\": \"\"\n      }\n    },\n    {\n      \"column\": \"title\",\n      \"properties\": {\n        \"dtype\": \"string\",\n        \"num_unique_values\": 941,\n        \"samples\": [\n          \"4.0 out of 5 stars Ok\",\n          \"3.0 out of 5 stars Bad Fit\",\n          \"4.0 out of 5 stars Works well\"\n        ],\n        \"semantic_type\": \"\",\n        \"description\": \"\"\n      }\n    },\n    {\n      \"column\": \"author\",\n      \"properties\": {\n        \"dtype\": \"string\",\n        \"num_unique_values\": 928,\n        \"samples\": [\n          \"Douglas Farley\",\n          \"John Dudley\",\n          \"Holyforge\"\n        ],\n        \"semantic_type\": \"\",\n        \"description\": \"\"\n      }\n    },\n    {\n      \"column\": \"rating\",\n      \"properties\": {\n        \"dtype\": \"number\",\n        \"std\": 0,\n        \"min\": 1,\n        \"max\": 5,\n        \"num_unique_values\": 5,\n        \"samples\": [\n          4,\n          2,\n          3\n        ],\n        \"semantic_type\": \"\",\n        \"description\": \"\"\n      }\n    },\n    {\n      \"column\": \"content\",\n      \"properties\": {\n        \"dtype\": \"string\",\n        \"num_unique_values\": 999,\n        \"samples\": [\n          \"I bought these last generation Bose earbuds on sale one day and I'm so happy that I did. I have always loved the Bose quality, so I had no qualms about their sound. One complaint i've read about is that you cannot only wear one earbud, or cannot only wear the left earbud. I'm here to tell you, in June 2024, you absolutely can. Also the battery life is amazing since the case recharges everytime you put the buds away. I honestly haven't used them for calls yet, but I didn't buy them for that reason, only for music and podcasts.I was torn between buying these and the new ultra open Bose earbuds, but I'm pretty happy with these and the noise cancellation. I haven't used them travelling, but in a normal household or work environment they have great noise cancellation. I'm very happy with my purchase!!\",\n          \"The audio quality is excellent, as is the battery life. Controls are unintuitive and rather difficult to learn. By far the biggest problem is the ANC is not nearly as good as it should be. I work with an angle grinder for 8 hours a day, so good ANC is a necessity for my hearing. It may just be that they don't fit me well, but I've found their noise canceling isn't even as good as the regular mode of some other earbuds I've tried.\",\n          \"Lost my old pair (my friend found them in his car) and bought these. Took a little getting used to, finding the right size rubber tubes that go into my ears; the standard size was too large and kept falling out, but they come with several sizes and I found one that fits better.Battery life is MUCH better than my original Airpods, even when they were new. The case also has a longer battery life. I used to have to carry my case with me on long walks, because the charge would only last about 90 minutes, but these always have plenty of charge left when I get home. (Since I now leave the case at home, sometimes I get false alerts from my phone that the case is lost, but it is always sitting on the counter in my kitchen where I left it!)They stay in my ears much better than the 1st gen Airpods. I got some silicon rubber ear hooks ($6 for 3 pairs) for the Gen 1 Airpods, and they almost never fall out any more. However, you have to remove the hooks to put them in the charger case. The new 2nd Gen Airpods still fall out, about once an hour vs. about every 10 minutes for the Gen 1's, so I got some similar ear hooks for the Gen2's. These are a little easier to install but not quite as comfortable as the Gen 1 hooks. They also have to be removed before charging. With the hooks, they almost never fall out as long as I've got them seated in my ears properly.The Gen 1 hooks don't fit the Gen 2 Airpods, so I had to get new ones.Sound quality is fine, battery life is great.\"\n        ],\n        \"semantic_type\": \"\",\n        \"description\": \"\"\n      }\n    },\n    {\n      \"column\": \"timestamp\",\n      \"properties\": {\n        \"dtype\": \"category\",\n        \"num_unique_values\": 361,\n        \"samples\": [\n          \"Reviewed in the United States December 29, 2022\",\n          \"Reviewed in the United States July 10, 2024\",\n          \"Reviewed in the United States July 13, 2024\"\n        ],\n        \"semantic_type\": \"\",\n        \"description\": \"\"\n      }\n    },\n    {\n      \"column\": \"profile_id\",\n      \"properties\": {\n        \"dtype\": \"string\",\n        \"num_unique_values\": 997,\n        \"samples\": [\n          \"AHDKJ5K3YBEF5DHRMSPH2DN62BVQ\",\n          \"AH2OK5UWLM6MOXWNM2E65RWIK63A\",\n          \"AE5LPFPAIXAEP7WBBYC5V3ZKJNNQ\"\n        ],\n        \"semantic_type\": \"\",\n        \"description\": \"\"\n      }\n    },\n    {\n      \"column\": \"is_verified\",\n      \"properties\": {\n        \"dtype\": \"boolean\",\n        \"num_unique_values\": 1,\n        \"samples\": [\n          true\n        ],\n        \"semantic_type\": \"\",\n        \"description\": \"\"\n      }\n    },\n    {\n      \"column\": \"helpful_count\",\n      \"properties\": {\n        \"dtype\": \"number\",\n        \"std\": 56,\n        \"min\": 0,\n        \"max\": 1128,\n        \"num_unique_values\": 75,\n        \"samples\": [\n          3\n        ],\n        \"semantic_type\": \"\",\n        \"description\": \"\"\n      }\n    },\n    {\n      \"column\": \"product_attributes\",\n      \"properties\": {\n        \"dtype\": \"category\",\n        \"num_unique_values\": 24,\n        \"samples\": [\n          \"Color: Triple Black\"\n        ],\n        \"semantic_type\": \"\",\n        \"description\": \"\"\n      }\n    }\n  ]\n}"
            }
          },
          "metadata": {},
          "execution_count": 21
        }
      ]
    },
    {
      "cell_type": "code",
      "source": [
        "df.describe()"
      ],
      "metadata": {
        "colab": {
          "base_uri": "https://localhost:8080/",
          "height": 300
        },
        "id": "WD9XRcPs4lAA",
        "outputId": "b100bb51-2135-467e-84e0-031761a76e0e"
      },
      "execution_count": null,
      "outputs": [
        {
          "output_type": "execute_result",
          "data": {
            "text/plain": [
              "            rating  helpful_count\n",
              "count  1000.000000    1000.000000\n",
              "mean      4.370000      10.184000\n",
              "std       0.804828      56.550439\n",
              "min       1.000000       0.000000\n",
              "25%       4.000000       0.000000\n",
              "50%       5.000000       0.000000\n",
              "75%       5.000000       2.000000\n",
              "max       5.000000    1128.000000"
            ],
            "text/html": [
              "\n",
              "  <div id=\"df-cb4ff1e7-c838-41dd-bdae-902062c350eb\" class=\"colab-df-container\">\n",
              "    <div>\n",
              "<style scoped>\n",
              "    .dataframe tbody tr th:only-of-type {\n",
              "        vertical-align: middle;\n",
              "    }\n",
              "\n",
              "    .dataframe tbody tr th {\n",
              "        vertical-align: top;\n",
              "    }\n",
              "\n",
              "    .dataframe thead th {\n",
              "        text-align: right;\n",
              "    }\n",
              "</style>\n",
              "<table border=\"1\" class=\"dataframe\">\n",
              "  <thead>\n",
              "    <tr style=\"text-align: right;\">\n",
              "      <th></th>\n",
              "      <th>rating</th>\n",
              "      <th>helpful_count</th>\n",
              "    </tr>\n",
              "  </thead>\n",
              "  <tbody>\n",
              "    <tr>\n",
              "      <th>count</th>\n",
              "      <td>1000.000000</td>\n",
              "      <td>1000.000000</td>\n",
              "    </tr>\n",
              "    <tr>\n",
              "      <th>mean</th>\n",
              "      <td>4.370000</td>\n",
              "      <td>10.184000</td>\n",
              "    </tr>\n",
              "    <tr>\n",
              "      <th>std</th>\n",
              "      <td>0.804828</td>\n",
              "      <td>56.550439</td>\n",
              "    </tr>\n",
              "    <tr>\n",
              "      <th>min</th>\n",
              "      <td>1.000000</td>\n",
              "      <td>0.000000</td>\n",
              "    </tr>\n",
              "    <tr>\n",
              "      <th>25%</th>\n",
              "      <td>4.000000</td>\n",
              "      <td>0.000000</td>\n",
              "    </tr>\n",
              "    <tr>\n",
              "      <th>50%</th>\n",
              "      <td>5.000000</td>\n",
              "      <td>0.000000</td>\n",
              "    </tr>\n",
              "    <tr>\n",
              "      <th>75%</th>\n",
              "      <td>5.000000</td>\n",
              "      <td>2.000000</td>\n",
              "    </tr>\n",
              "    <tr>\n",
              "      <th>max</th>\n",
              "      <td>5.000000</td>\n",
              "      <td>1128.000000</td>\n",
              "    </tr>\n",
              "  </tbody>\n",
              "</table>\n",
              "</div>\n",
              "    <div class=\"colab-df-buttons\">\n",
              "\n",
              "  <div class=\"colab-df-container\">\n",
              "    <button class=\"colab-df-convert\" onclick=\"convertToInteractive('df-cb4ff1e7-c838-41dd-bdae-902062c350eb')\"\n",
              "            title=\"Convert this dataframe to an interactive table.\"\n",
              "            style=\"display:none;\">\n",
              "\n",
              "  <svg xmlns=\"http://www.w3.org/2000/svg\" height=\"24px\" viewBox=\"0 -960 960 960\">\n",
              "    <path d=\"M120-120v-720h720v720H120Zm60-500h600v-160H180v160Zm220 220h160v-160H400v160Zm0 220h160v-160H400v160ZM180-400h160v-160H180v160Zm440 0h160v-160H620v160ZM180-180h160v-160H180v160Zm440 0h160v-160H620v160Z\"/>\n",
              "  </svg>\n",
              "    </button>\n",
              "\n",
              "  <style>\n",
              "    .colab-df-container {\n",
              "      display:flex;\n",
              "      gap: 12px;\n",
              "    }\n",
              "\n",
              "    .colab-df-convert {\n",
              "      background-color: #E8F0FE;\n",
              "      border: none;\n",
              "      border-radius: 50%;\n",
              "      cursor: pointer;\n",
              "      display: none;\n",
              "      fill: #1967D2;\n",
              "      height: 32px;\n",
              "      padding: 0 0 0 0;\n",
              "      width: 32px;\n",
              "    }\n",
              "\n",
              "    .colab-df-convert:hover {\n",
              "      background-color: #E2EBFA;\n",
              "      box-shadow: 0px 1px 2px rgba(60, 64, 67, 0.3), 0px 1px 3px 1px rgba(60, 64, 67, 0.15);\n",
              "      fill: #174EA6;\n",
              "    }\n",
              "\n",
              "    .colab-df-buttons div {\n",
              "      margin-bottom: 4px;\n",
              "    }\n",
              "\n",
              "    [theme=dark] .colab-df-convert {\n",
              "      background-color: #3B4455;\n",
              "      fill: #D2E3FC;\n",
              "    }\n",
              "\n",
              "    [theme=dark] .colab-df-convert:hover {\n",
              "      background-color: #434B5C;\n",
              "      box-shadow: 0px 1px 3px 1px rgba(0, 0, 0, 0.15);\n",
              "      filter: drop-shadow(0px 1px 2px rgba(0, 0, 0, 0.3));\n",
              "      fill: #FFFFFF;\n",
              "    }\n",
              "  </style>\n",
              "\n",
              "    <script>\n",
              "      const buttonEl =\n",
              "        document.querySelector('#df-cb4ff1e7-c838-41dd-bdae-902062c350eb button.colab-df-convert');\n",
              "      buttonEl.style.display =\n",
              "        google.colab.kernel.accessAllowed ? 'block' : 'none';\n",
              "\n",
              "      async function convertToInteractive(key) {\n",
              "        const element = document.querySelector('#df-cb4ff1e7-c838-41dd-bdae-902062c350eb');\n",
              "        const dataTable =\n",
              "          await google.colab.kernel.invokeFunction('convertToInteractive',\n",
              "                                                    [key], {});\n",
              "        if (!dataTable) return;\n",
              "\n",
              "        const docLinkHtml = 'Like what you see? Visit the ' +\n",
              "          '<a target=\"_blank\" href=https://colab.research.google.com/notebooks/data_table.ipynb>data table notebook</a>'\n",
              "          + ' to learn more about interactive tables.';\n",
              "        element.innerHTML = '';\n",
              "        dataTable['output_type'] = 'display_data';\n",
              "        await google.colab.output.renderOutput(dataTable, element);\n",
              "        const docLink = document.createElement('div');\n",
              "        docLink.innerHTML = docLinkHtml;\n",
              "        element.appendChild(docLink);\n",
              "      }\n",
              "    </script>\n",
              "  </div>\n",
              "\n",
              "\n",
              "<div id=\"df-8b24d8df-ad3c-43fe-b836-0639472ada4b\">\n",
              "  <button class=\"colab-df-quickchart\" onclick=\"quickchart('df-8b24d8df-ad3c-43fe-b836-0639472ada4b')\"\n",
              "            title=\"Suggest charts\"\n",
              "            style=\"display:none;\">\n",
              "\n",
              "<svg xmlns=\"http://www.w3.org/2000/svg\" height=\"24px\"viewBox=\"0 0 24 24\"\n",
              "     width=\"24px\">\n",
              "    <g>\n",
              "        <path d=\"M19 3H5c-1.1 0-2 .9-2 2v14c0 1.1.9 2 2 2h14c1.1 0 2-.9 2-2V5c0-1.1-.9-2-2-2zM9 17H7v-7h2v7zm4 0h-2V7h2v10zm4 0h-2v-4h2v4z\"/>\n",
              "    </g>\n",
              "</svg>\n",
              "  </button>\n",
              "\n",
              "<style>\n",
              "  .colab-df-quickchart {\n",
              "      --bg-color: #E8F0FE;\n",
              "      --fill-color: #1967D2;\n",
              "      --hover-bg-color: #E2EBFA;\n",
              "      --hover-fill-color: #174EA6;\n",
              "      --disabled-fill-color: #AAA;\n",
              "      --disabled-bg-color: #DDD;\n",
              "  }\n",
              "\n",
              "  [theme=dark] .colab-df-quickchart {\n",
              "      --bg-color: #3B4455;\n",
              "      --fill-color: #D2E3FC;\n",
              "      --hover-bg-color: #434B5C;\n",
              "      --hover-fill-color: #FFFFFF;\n",
              "      --disabled-bg-color: #3B4455;\n",
              "      --disabled-fill-color: #666;\n",
              "  }\n",
              "\n",
              "  .colab-df-quickchart {\n",
              "    background-color: var(--bg-color);\n",
              "    border: none;\n",
              "    border-radius: 50%;\n",
              "    cursor: pointer;\n",
              "    display: none;\n",
              "    fill: var(--fill-color);\n",
              "    height: 32px;\n",
              "    padding: 0;\n",
              "    width: 32px;\n",
              "  }\n",
              "\n",
              "  .colab-df-quickchart:hover {\n",
              "    background-color: var(--hover-bg-color);\n",
              "    box-shadow: 0 1px 2px rgba(60, 64, 67, 0.3), 0 1px 3px 1px rgba(60, 64, 67, 0.15);\n",
              "    fill: var(--button-hover-fill-color);\n",
              "  }\n",
              "\n",
              "  .colab-df-quickchart-complete:disabled,\n",
              "  .colab-df-quickchart-complete:disabled:hover {\n",
              "    background-color: var(--disabled-bg-color);\n",
              "    fill: var(--disabled-fill-color);\n",
              "    box-shadow: none;\n",
              "  }\n",
              "\n",
              "  .colab-df-spinner {\n",
              "    border: 2px solid var(--fill-color);\n",
              "    border-color: transparent;\n",
              "    border-bottom-color: var(--fill-color);\n",
              "    animation:\n",
              "      spin 1s steps(1) infinite;\n",
              "  }\n",
              "\n",
              "  @keyframes spin {\n",
              "    0% {\n",
              "      border-color: transparent;\n",
              "      border-bottom-color: var(--fill-color);\n",
              "      border-left-color: var(--fill-color);\n",
              "    }\n",
              "    20% {\n",
              "      border-color: transparent;\n",
              "      border-left-color: var(--fill-color);\n",
              "      border-top-color: var(--fill-color);\n",
              "    }\n",
              "    30% {\n",
              "      border-color: transparent;\n",
              "      border-left-color: var(--fill-color);\n",
              "      border-top-color: var(--fill-color);\n",
              "      border-right-color: var(--fill-color);\n",
              "    }\n",
              "    40% {\n",
              "      border-color: transparent;\n",
              "      border-right-color: var(--fill-color);\n",
              "      border-top-color: var(--fill-color);\n",
              "    }\n",
              "    60% {\n",
              "      border-color: transparent;\n",
              "      border-right-color: var(--fill-color);\n",
              "    }\n",
              "    80% {\n",
              "      border-color: transparent;\n",
              "      border-right-color: var(--fill-color);\n",
              "      border-bottom-color: var(--fill-color);\n",
              "    }\n",
              "    90% {\n",
              "      border-color: transparent;\n",
              "      border-bottom-color: var(--fill-color);\n",
              "    }\n",
              "  }\n",
              "</style>\n",
              "\n",
              "  <script>\n",
              "    async function quickchart(key) {\n",
              "      const quickchartButtonEl =\n",
              "        document.querySelector('#' + key + ' button');\n",
              "      quickchartButtonEl.disabled = true;  // To prevent multiple clicks.\n",
              "      quickchartButtonEl.classList.add('colab-df-spinner');\n",
              "      try {\n",
              "        const charts = await google.colab.kernel.invokeFunction(\n",
              "            'suggestCharts', [key], {});\n",
              "      } catch (error) {\n",
              "        console.error('Error during call to suggestCharts:', error);\n",
              "      }\n",
              "      quickchartButtonEl.classList.remove('colab-df-spinner');\n",
              "      quickchartButtonEl.classList.add('colab-df-quickchart-complete');\n",
              "    }\n",
              "    (() => {\n",
              "      let quickchartButtonEl =\n",
              "        document.querySelector('#df-8b24d8df-ad3c-43fe-b836-0639472ada4b button');\n",
              "      quickchartButtonEl.style.display =\n",
              "        google.colab.kernel.accessAllowed ? 'block' : 'none';\n",
              "    })();\n",
              "  </script>\n",
              "</div>\n",
              "\n",
              "    </div>\n",
              "  </div>\n"
            ],
            "application/vnd.google.colaboratory.intrinsic+json": {
              "type": "dataframe",
              "summary": "{\n  \"name\": \"df\",\n  \"rows\": 8,\n  \"fields\": [\n    {\n      \"column\": \"rating\",\n      \"properties\": {\n        \"dtype\": \"number\",\n        \"std\": 352.28616943164593,\n        \"min\": 0.8048277752089249,\n        \"max\": 1000.0,\n        \"num_unique_values\": 6,\n        \"samples\": [\n          1000.0,\n          4.37,\n          5.0\n        ],\n        \"semantic_type\": \"\",\n        \"description\": \"\"\n      }\n    },\n    {\n      \"column\": \"helpful_count\",\n      \"properties\": {\n        \"dtype\": \"number\",\n        \"std\": 488.80092234292545,\n        \"min\": 0.0,\n        \"max\": 1128.0,\n        \"num_unique_values\": 6,\n        \"samples\": [\n          1000.0,\n          10.184,\n          1128.0\n        ],\n        \"semantic_type\": \"\",\n        \"description\": \"\"\n      }\n    }\n  ]\n}"
            }
          },
          "metadata": {},
          "execution_count": 22
        }
      ]
    },
    {
      "cell_type": "markdown",
      "source": [
        "- **Is there any missing values?**"
      ],
      "metadata": {
        "id": "W0tWewCc4sts"
      }
    },
    {
      "cell_type": "code",
      "source": [
        "df.isna().sum()"
      ],
      "metadata": {
        "colab": {
          "base_uri": "https://localhost:8080/",
          "height": 429
        },
        "id": "Xe5Ucu054lDg",
        "outputId": "e521aebb-334d-4103-aa7c-2aac465db181"
      },
      "execution_count": null,
      "outputs": [
        {
          "output_type": "execute_result",
          "data": {
            "text/plain": [
              "review_id              0\n",
              "product_id             0\n",
              "title                  0\n",
              "author                 0\n",
              "rating                 0\n",
              "content                0\n",
              "timestamp              0\n",
              "profile_id             0\n",
              "is_verified            0\n",
              "helpful_count          0\n",
              "product_attributes    33\n",
              "dtype: int64"
            ],
            "text/html": [
              "<div>\n",
              "<style scoped>\n",
              "    .dataframe tbody tr th:only-of-type {\n",
              "        vertical-align: middle;\n",
              "    }\n",
              "\n",
              "    .dataframe tbody tr th {\n",
              "        vertical-align: top;\n",
              "    }\n",
              "\n",
              "    .dataframe thead th {\n",
              "        text-align: right;\n",
              "    }\n",
              "</style>\n",
              "<table border=\"1\" class=\"dataframe\">\n",
              "  <thead>\n",
              "    <tr style=\"text-align: right;\">\n",
              "      <th></th>\n",
              "      <th>0</th>\n",
              "    </tr>\n",
              "  </thead>\n",
              "  <tbody>\n",
              "    <tr>\n",
              "      <th>review_id</th>\n",
              "      <td>0</td>\n",
              "    </tr>\n",
              "    <tr>\n",
              "      <th>product_id</th>\n",
              "      <td>0</td>\n",
              "    </tr>\n",
              "    <tr>\n",
              "      <th>title</th>\n",
              "      <td>0</td>\n",
              "    </tr>\n",
              "    <tr>\n",
              "      <th>author</th>\n",
              "      <td>0</td>\n",
              "    </tr>\n",
              "    <tr>\n",
              "      <th>rating</th>\n",
              "      <td>0</td>\n",
              "    </tr>\n",
              "    <tr>\n",
              "      <th>content</th>\n",
              "      <td>0</td>\n",
              "    </tr>\n",
              "    <tr>\n",
              "      <th>timestamp</th>\n",
              "      <td>0</td>\n",
              "    </tr>\n",
              "    <tr>\n",
              "      <th>profile_id</th>\n",
              "      <td>0</td>\n",
              "    </tr>\n",
              "    <tr>\n",
              "      <th>is_verified</th>\n",
              "      <td>0</td>\n",
              "    </tr>\n",
              "    <tr>\n",
              "      <th>helpful_count</th>\n",
              "      <td>0</td>\n",
              "    </tr>\n",
              "    <tr>\n",
              "      <th>product_attributes</th>\n",
              "      <td>33</td>\n",
              "    </tr>\n",
              "  </tbody>\n",
              "</table>\n",
              "</div><br><label><b>dtype:</b> int64</label>"
            ]
          },
          "metadata": {},
          "execution_count": 23
        }
      ]
    },
    {
      "cell_type": "markdown",
      "source": [
        "1. There are 33 missing values, all of them are in the column \"product_attributes\".\n",
        "2. **Is this distributed evenly, or is the problem with a specific product?**"
      ],
      "metadata": {
        "id": "Itzq5Xv748Ax"
      }
    },
    {
      "cell_type": "code",
      "source": [
        "nan_attributes_df = df[df['product_attributes'].isna()]\n",
        "product_id_counts = nan_attributes_df['product_id'].value_counts()\n",
        "total_nan_count = nan_attributes_df.shape[0]\n",
        "percentage_distribution = (product_id_counts / total_nan_count) * 100"
      ],
      "metadata": {
        "id": "2lmXqxHY4lFr"
      },
      "execution_count": null,
      "outputs": []
    },
    {
      "cell_type": "code",
      "source": [
        "percentage_distribution"
      ],
      "metadata": {
        "colab": {
          "base_uri": "https://localhost:8080/",
          "height": 147
        },
        "id": "JBdCo-8b4lIP",
        "outputId": "fff8ab63-de4d-48c9-a21c-7fed48e95ec9"
      },
      "execution_count": null,
      "outputs": [
        {
          "output_type": "execute_result",
          "data": {
            "text/plain": [
              "product_id\n",
              "B09CGM1BWH    100.0\n",
              "Name: count, dtype: float64"
            ],
            "text/html": [
              "<div>\n",
              "<style scoped>\n",
              "    .dataframe tbody tr th:only-of-type {\n",
              "        vertical-align: middle;\n",
              "    }\n",
              "\n",
              "    .dataframe tbody tr th {\n",
              "        vertical-align: top;\n",
              "    }\n",
              "\n",
              "    .dataframe thead th {\n",
              "        text-align: right;\n",
              "    }\n",
              "</style>\n",
              "<table border=\"1\" class=\"dataframe\">\n",
              "  <thead>\n",
              "    <tr style=\"text-align: right;\">\n",
              "      <th></th>\n",
              "      <th>count</th>\n",
              "    </tr>\n",
              "    <tr>\n",
              "      <th>product_id</th>\n",
              "      <th></th>\n",
              "    </tr>\n",
              "  </thead>\n",
              "  <tbody>\n",
              "    <tr>\n",
              "      <th>B09CGM1BWH</th>\n",
              "      <td>100.0</td>\n",
              "    </tr>\n",
              "  </tbody>\n",
              "</table>\n",
              "</div><br><label><b>dtype:</b> float64</label>"
            ]
          },
          "metadata": {},
          "execution_count": 25
        }
      ]
    },
    {
      "cell_type": "markdown",
      "source": [
        "- All of the Null values are coming from the same product. Deleting all of the rows with Null values can create an unbalanced dataset in terms of products. **Is this just a technical issue?**\n",
        "\n",
        "- The name of the product with id \"B09CGM1BWH\" is Soundcore Liberty 3 Pro."
      ],
      "metadata": {
        "id": "VBP96ovq5CuJ"
      }
    },
    {
      "cell_type": "code",
      "source": [
        "unique_values = df['product_attributes'].unique()\n",
        "unique_values"
      ],
      "metadata": {
        "colab": {
          "base_uri": "https://localhost:8080/"
        },
        "id": "qUNS6J9Z5E_0",
        "outputId": "12d03d13-20b6-4af7-ca03-41646285bce3"
      },
      "execution_count": null,
      "outputs": [
        {
          "output_type": "execute_result",
          "data": {
            "text/plain": [
              "array(['Set: Without AppleCare+', 'Configuration: Without AppleCare+',\n",
              "       'Style: Without AppleCare+',\n",
              "       'Color: IvoryStyle: Studio Buds +Set: Without AppleCare+',\n",
              "       'Color: Black/GoldStyle: Studio Buds +Set: Without AppleCare+',\n",
              "       'Color: TransparentStyle: Studio Buds +Set: Without AppleCare+',\n",
              "       'Color: Cosmic SilverStyle: Studio Buds +Set: Without AppleCare+',\n",
              "       'Color: Cosmic SilverStyle: Studio Buds +Set: With AppleCare+ (2 Years)',\n",
              "       'Color: Triple Black', 'Color: Soapstone', 'Color: Eclipse Grey',\n",
              "       'Color: Charcoal', 'Color: Fog', 'Color: Porcelain',\n",
              "       'Color: Lemongrass', 'Color: Coral', 'Color: Bay', 'Color: Black',\n",
              "       'Color: Blue', 'Color: Silver', 'Color: Midnight Black', nan,\n",
              "       'Color: WhiteSize: SmallPattern: Earbuds',\n",
              "       'Color: BlackSize: SmallPattern: Earbuds',\n",
              "       'Color: BlueSize: SmallPattern: Earbuds'], dtype=object)"
            ]
          },
          "metadata": {},
          "execution_count": 26
        }
      ]
    },
    {
      "cell_type": "markdown",
      "source": [
        "- Most of the \"product_attributes\" column specifies the color of the product.\n",
        "\n",
        "- For Apple products, the column specifies with or without AppleCare+.\n",
        "\n",
        "- **Are there products in the dataset with different color but with the same product id?**"
      ],
      "metadata": {
        "id": "xPsrbUqT5Hgt"
      }
    },
    {
      "cell_type": "code",
      "source": [
        "# hash_map -> product_id : set().\n",
        "hash_map = {}\n",
        "# Create a key for each value of the \"product_id\" column.\n",
        "for product_id in df['product_id']:\n",
        "  hash_map[product_id] = set()\n",
        "# For each row in the dataframe, add the value associated with the column called \"product_attributes\" to the set hash_map[product_id].\n",
        "for index, row in df.iterrows():\n",
        "  hash_map[row['product_id']].add(row['product_attributes'])\n",
        "hash_map"
      ],
      "metadata": {
        "colab": {
          "base_uri": "https://localhost:8080/"
        },
        "id": "s8NQcGl15Ju7",
        "outputId": "245c2114-41fe-40cc-c12b-a926ac18cd19"
      },
      "execution_count": null,
      "outputs": [
        {
          "output_type": "execute_result",
          "data": {
            "text/plain": [
              "{'B07PXGQC1Q': {'Set: Without AppleCare+'},\n",
              " 'B0D1WXVQTN': {'Configuration: Without AppleCare+'},\n",
              " 'B0D1XD1ZV3': {'Style: Without AppleCare+'},\n",
              " 'B0C2WD567R': {'Color: Black/GoldStyle: Studio Buds +Set: Without AppleCare+',\n",
              "  'Color: Cosmic SilverStyle: Studio Buds +Set: With AppleCare+ (2 Years)',\n",
              "  'Color: Cosmic SilverStyle: Studio Buds +Set: Without AppleCare+',\n",
              "  'Color: IvoryStyle: Studio Buds +Set: Without AppleCare+',\n",
              "  'Color: TransparentStyle: Studio Buds +Set: Without AppleCare+'},\n",
              " 'B0B4PSQHD5': {'Color: Eclipse Grey',\n",
              "  'Color: Soapstone',\n",
              "  'Color: Triple Black'},\n",
              " 'B0B1N7RT74': {'Color: Bay',\n",
              "  'Color: Charcoal',\n",
              "  'Color: Coral',\n",
              "  'Color: Fog',\n",
              "  'Color: Lemongrass',\n",
              "  'Color: Porcelain'},\n",
              " 'B09V9X91ZP': {'Color: Black', 'Color: Blue', 'Color: Silver'},\n",
              " 'B09V9P5Q6W': {'Color: Black', 'Color: Blue', 'Color: Silver'},\n",
              " 'B09CGM1BWH': {'Color: Midnight Black', nan},\n",
              " 'B0C1QNRGHC': {'Color: BlackSize: SmallPattern: Earbuds',\n",
              "  'Color: BlueSize: SmallPattern: Earbuds',\n",
              "  'Color: WhiteSize: SmallPattern: Earbuds'}}"
            ]
          },
          "metadata": {},
          "execution_count": 27
        }
      ]
    },
    {
      "cell_type": "markdown",
      "source": [
        "- There can be products that have the same product id but have different colors. For the product we are interested in 77 of the reviews have the value \"Color: Midnight Black\" in the \"product_attributes\" column, while 33 of the reviews have a Null value.\n",
        "- Here, we have 2 options, we can either delete all of the reviews with a Null value, leading to an unbalanced dataset, or we can set the value associated with the \"product_attributes\" column for the reviews with a Null value associated with the \"product_attributes\" column to \"Not Known\" indicating that we are not sure about it.\n",
        "- I have decided to set the value associated with the \"product_attributes\" column for the reviews with a Null value associated with the \"product_attributes\" column to \"Not Known'."
      ],
      "metadata": {
        "id": "mtVRBq_25Lo1"
      }
    },
    {
      "cell_type": "code",
      "source": [
        "df['product_attributes'].fillna('Not Known', inplace=True)"
      ],
      "metadata": {
        "id": "jA2hzVOc5N5f"
      },
      "execution_count": null,
      "outputs": []
    },
    {
      "cell_type": "code",
      "source": [
        "df.isna().sum()"
      ],
      "metadata": {
        "colab": {
          "base_uri": "https://localhost:8080/",
          "height": 429
        },
        "id": "eZOa6Srd5UIW",
        "outputId": "23c7b110-60f5-4f22-f017-3814eea67702"
      },
      "execution_count": null,
      "outputs": [
        {
          "output_type": "execute_result",
          "data": {
            "text/plain": [
              "review_id             0\n",
              "product_id            0\n",
              "title                 0\n",
              "author                0\n",
              "rating                0\n",
              "content               0\n",
              "timestamp             0\n",
              "profile_id            0\n",
              "is_verified           0\n",
              "helpful_count         0\n",
              "product_attributes    0\n",
              "dtype: int64"
            ],
            "text/html": [
              "<div>\n",
              "<style scoped>\n",
              "    .dataframe tbody tr th:only-of-type {\n",
              "        vertical-align: middle;\n",
              "    }\n",
              "\n",
              "    .dataframe tbody tr th {\n",
              "        vertical-align: top;\n",
              "    }\n",
              "\n",
              "    .dataframe thead th {\n",
              "        text-align: right;\n",
              "    }\n",
              "</style>\n",
              "<table border=\"1\" class=\"dataframe\">\n",
              "  <thead>\n",
              "    <tr style=\"text-align: right;\">\n",
              "      <th></th>\n",
              "      <th>0</th>\n",
              "    </tr>\n",
              "  </thead>\n",
              "  <tbody>\n",
              "    <tr>\n",
              "      <th>review_id</th>\n",
              "      <td>0</td>\n",
              "    </tr>\n",
              "    <tr>\n",
              "      <th>product_id</th>\n",
              "      <td>0</td>\n",
              "    </tr>\n",
              "    <tr>\n",
              "      <th>title</th>\n",
              "      <td>0</td>\n",
              "    </tr>\n",
              "    <tr>\n",
              "      <th>author</th>\n",
              "      <td>0</td>\n",
              "    </tr>\n",
              "    <tr>\n",
              "      <th>rating</th>\n",
              "      <td>0</td>\n",
              "    </tr>\n",
              "    <tr>\n",
              "      <th>content</th>\n",
              "      <td>0</td>\n",
              "    </tr>\n",
              "    <tr>\n",
              "      <th>timestamp</th>\n",
              "      <td>0</td>\n",
              "    </tr>\n",
              "    <tr>\n",
              "      <th>profile_id</th>\n",
              "      <td>0</td>\n",
              "    </tr>\n",
              "    <tr>\n",
              "      <th>is_verified</th>\n",
              "      <td>0</td>\n",
              "    </tr>\n",
              "    <tr>\n",
              "      <th>helpful_count</th>\n",
              "      <td>0</td>\n",
              "    </tr>\n",
              "    <tr>\n",
              "      <th>product_attributes</th>\n",
              "      <td>0</td>\n",
              "    </tr>\n",
              "  </tbody>\n",
              "</table>\n",
              "</div><br><label><b>dtype:</b> int64</label>"
            ]
          },
          "metadata": {},
          "execution_count": 29
        }
      ]
    },
    {
      "cell_type": "code",
      "source": [
        "df.drop(columns=['author', 'profile_id'], inplace=True)"
      ],
      "metadata": {
        "id": "Ngaziwbj5Px5"
      },
      "execution_count": null,
      "outputs": []
    },
    {
      "cell_type": "code",
      "source": [
        "df['is_verified'] = df['is_verified'].apply(lambda x: 1 if x == True else 0)"
      ],
      "metadata": {
        "id": "OjPDIUft5bwW"
      },
      "execution_count": null,
      "outputs": []
    },
    {
      "cell_type": "code",
      "source": [
        "df.drop(columns=['is_verified'], inplace=True)"
      ],
      "metadata": {
        "id": "J_SS-4RB5e8B"
      },
      "execution_count": null,
      "outputs": []
    },
    {
      "cell_type": "code",
      "source": [
        "def get_the_year(string):\n",
        "  year = int(string[-4:])\n",
        "  return year"
      ],
      "metadata": {
        "id": "6wcsBq-J5hC3"
      },
      "execution_count": null,
      "outputs": []
    },
    {
      "cell_type": "code",
      "source": [
        "df['timestamp'] = df['timestamp'].apply(get_the_year)\n",
        "df.set_index('review_id', inplace=True)\n",
        "df.rename(columns={'timestamp': 'year'}, inplace=True)"
      ],
      "metadata": {
        "id": "Gdkt0BLd5im1"
      },
      "execution_count": null,
      "outputs": []
    },
    {
      "cell_type": "code",
      "source": [
        "df.info()"
      ],
      "metadata": {
        "colab": {
          "base_uri": "https://localhost:8080/"
        },
        "id": "nU08GmBO5kEF",
        "outputId": "e855df1b-33bc-455c-c53d-be4e7a4cbcc6"
      },
      "execution_count": null,
      "outputs": [
        {
          "output_type": "stream",
          "name": "stdout",
          "text": [
            "<class 'pandas.core.frame.DataFrame'>\n",
            "Index: 1000 entries, R1F236Q566CSRQ to R3Q6EZYWSQCBU8\n",
            "Data columns (total 7 columns):\n",
            " #   Column              Non-Null Count  Dtype \n",
            "---  ------              --------------  ----- \n",
            " 0   product_id          1000 non-null   object\n",
            " 1   title               1000 non-null   object\n",
            " 2   rating              1000 non-null   int64 \n",
            " 3   content             1000 non-null   object\n",
            " 4   year                1000 non-null   int64 \n",
            " 5   helpful_count       1000 non-null   int64 \n",
            " 6   product_attributes  1000 non-null   object\n",
            "dtypes: int64(3), object(4)\n",
            "memory usage: 62.5+ KB\n"
          ]
        }
      ]
    },
    {
      "cell_type": "markdown",
      "source": [
        "## 5. Exploratory Data Analysis (EDA)\n",
        "\n",
        "### 5.1 Data Overview"
      ],
      "metadata": {
        "id": "7LQuEuuKgHJc"
      }
    },
    {
      "cell_type": "code",
      "source": [
        "df.describe()"
      ],
      "metadata": {
        "colab": {
          "base_uri": "https://localhost:8080/",
          "height": 300
        },
        "id": "rfaIN48R5mCs",
        "outputId": "5ba7e8ea-d949-4913-f98e-4def81e5eecf"
      },
      "execution_count": null,
      "outputs": [
        {
          "output_type": "execute_result",
          "data": {
            "text/plain": [
              "            rating        year  helpful_count\n",
              "count  1000.000000  1000.00000    1000.000000\n",
              "mean      4.370000  2023.71400      10.184000\n",
              "std       0.804828     0.60047      56.550439\n",
              "min       1.000000  2020.00000       0.000000\n",
              "25%       4.000000  2024.00000       0.000000\n",
              "50%       5.000000  2024.00000       0.000000\n",
              "75%       5.000000  2024.00000       2.000000\n",
              "max       5.000000  2024.00000    1128.000000"
            ],
            "text/html": [
              "\n",
              "  <div id=\"df-e168ed5a-4b1c-4e7e-9714-7fc8ded7ed14\" class=\"colab-df-container\">\n",
              "    <div>\n",
              "<style scoped>\n",
              "    .dataframe tbody tr th:only-of-type {\n",
              "        vertical-align: middle;\n",
              "    }\n",
              "\n",
              "    .dataframe tbody tr th {\n",
              "        vertical-align: top;\n",
              "    }\n",
              "\n",
              "    .dataframe thead th {\n",
              "        text-align: right;\n",
              "    }\n",
              "</style>\n",
              "<table border=\"1\" class=\"dataframe\">\n",
              "  <thead>\n",
              "    <tr style=\"text-align: right;\">\n",
              "      <th></th>\n",
              "      <th>rating</th>\n",
              "      <th>year</th>\n",
              "      <th>helpful_count</th>\n",
              "    </tr>\n",
              "  </thead>\n",
              "  <tbody>\n",
              "    <tr>\n",
              "      <th>count</th>\n",
              "      <td>1000.000000</td>\n",
              "      <td>1000.00000</td>\n",
              "      <td>1000.000000</td>\n",
              "    </tr>\n",
              "    <tr>\n",
              "      <th>mean</th>\n",
              "      <td>4.370000</td>\n",
              "      <td>2023.71400</td>\n",
              "      <td>10.184000</td>\n",
              "    </tr>\n",
              "    <tr>\n",
              "      <th>std</th>\n",
              "      <td>0.804828</td>\n",
              "      <td>0.60047</td>\n",
              "      <td>56.550439</td>\n",
              "    </tr>\n",
              "    <tr>\n",
              "      <th>min</th>\n",
              "      <td>1.000000</td>\n",
              "      <td>2020.00000</td>\n",
              "      <td>0.000000</td>\n",
              "    </tr>\n",
              "    <tr>\n",
              "      <th>25%</th>\n",
              "      <td>4.000000</td>\n",
              "      <td>2024.00000</td>\n",
              "      <td>0.000000</td>\n",
              "    </tr>\n",
              "    <tr>\n",
              "      <th>50%</th>\n",
              "      <td>5.000000</td>\n",
              "      <td>2024.00000</td>\n",
              "      <td>0.000000</td>\n",
              "    </tr>\n",
              "    <tr>\n",
              "      <th>75%</th>\n",
              "      <td>5.000000</td>\n",
              "      <td>2024.00000</td>\n",
              "      <td>2.000000</td>\n",
              "    </tr>\n",
              "    <tr>\n",
              "      <th>max</th>\n",
              "      <td>5.000000</td>\n",
              "      <td>2024.00000</td>\n",
              "      <td>1128.000000</td>\n",
              "    </tr>\n",
              "  </tbody>\n",
              "</table>\n",
              "</div>\n",
              "    <div class=\"colab-df-buttons\">\n",
              "\n",
              "  <div class=\"colab-df-container\">\n",
              "    <button class=\"colab-df-convert\" onclick=\"convertToInteractive('df-e168ed5a-4b1c-4e7e-9714-7fc8ded7ed14')\"\n",
              "            title=\"Convert this dataframe to an interactive table.\"\n",
              "            style=\"display:none;\">\n",
              "\n",
              "  <svg xmlns=\"http://www.w3.org/2000/svg\" height=\"24px\" viewBox=\"0 -960 960 960\">\n",
              "    <path d=\"M120-120v-720h720v720H120Zm60-500h600v-160H180v160Zm220 220h160v-160H400v160Zm0 220h160v-160H400v160ZM180-400h160v-160H180v160Zm440 0h160v-160H620v160ZM180-180h160v-160H180v160Zm440 0h160v-160H620v160Z\"/>\n",
              "  </svg>\n",
              "    </button>\n",
              "\n",
              "  <style>\n",
              "    .colab-df-container {\n",
              "      display:flex;\n",
              "      gap: 12px;\n",
              "    }\n",
              "\n",
              "    .colab-df-convert {\n",
              "      background-color: #E8F0FE;\n",
              "      border: none;\n",
              "      border-radius: 50%;\n",
              "      cursor: pointer;\n",
              "      display: none;\n",
              "      fill: #1967D2;\n",
              "      height: 32px;\n",
              "      padding: 0 0 0 0;\n",
              "      width: 32px;\n",
              "    }\n",
              "\n",
              "    .colab-df-convert:hover {\n",
              "      background-color: #E2EBFA;\n",
              "      box-shadow: 0px 1px 2px rgba(60, 64, 67, 0.3), 0px 1px 3px 1px rgba(60, 64, 67, 0.15);\n",
              "      fill: #174EA6;\n",
              "    }\n",
              "\n",
              "    .colab-df-buttons div {\n",
              "      margin-bottom: 4px;\n",
              "    }\n",
              "\n",
              "    [theme=dark] .colab-df-convert {\n",
              "      background-color: #3B4455;\n",
              "      fill: #D2E3FC;\n",
              "    }\n",
              "\n",
              "    [theme=dark] .colab-df-convert:hover {\n",
              "      background-color: #434B5C;\n",
              "      box-shadow: 0px 1px 3px 1px rgba(0, 0, 0, 0.15);\n",
              "      filter: drop-shadow(0px 1px 2px rgba(0, 0, 0, 0.3));\n",
              "      fill: #FFFFFF;\n",
              "    }\n",
              "  </style>\n",
              "\n",
              "    <script>\n",
              "      const buttonEl =\n",
              "        document.querySelector('#df-e168ed5a-4b1c-4e7e-9714-7fc8ded7ed14 button.colab-df-convert');\n",
              "      buttonEl.style.display =\n",
              "        google.colab.kernel.accessAllowed ? 'block' : 'none';\n",
              "\n",
              "      async function convertToInteractive(key) {\n",
              "        const element = document.querySelector('#df-e168ed5a-4b1c-4e7e-9714-7fc8ded7ed14');\n",
              "        const dataTable =\n",
              "          await google.colab.kernel.invokeFunction('convertToInteractive',\n",
              "                                                    [key], {});\n",
              "        if (!dataTable) return;\n",
              "\n",
              "        const docLinkHtml = 'Like what you see? Visit the ' +\n",
              "          '<a target=\"_blank\" href=https://colab.research.google.com/notebooks/data_table.ipynb>data table notebook</a>'\n",
              "          + ' to learn more about interactive tables.';\n",
              "        element.innerHTML = '';\n",
              "        dataTable['output_type'] = 'display_data';\n",
              "        await google.colab.output.renderOutput(dataTable, element);\n",
              "        const docLink = document.createElement('div');\n",
              "        docLink.innerHTML = docLinkHtml;\n",
              "        element.appendChild(docLink);\n",
              "      }\n",
              "    </script>\n",
              "  </div>\n",
              "\n",
              "\n",
              "<div id=\"df-b5d0d089-336e-4746-87da-2132acb25b56\">\n",
              "  <button class=\"colab-df-quickchart\" onclick=\"quickchart('df-b5d0d089-336e-4746-87da-2132acb25b56')\"\n",
              "            title=\"Suggest charts\"\n",
              "            style=\"display:none;\">\n",
              "\n",
              "<svg xmlns=\"http://www.w3.org/2000/svg\" height=\"24px\"viewBox=\"0 0 24 24\"\n",
              "     width=\"24px\">\n",
              "    <g>\n",
              "        <path d=\"M19 3H5c-1.1 0-2 .9-2 2v14c0 1.1.9 2 2 2h14c1.1 0 2-.9 2-2V5c0-1.1-.9-2-2-2zM9 17H7v-7h2v7zm4 0h-2V7h2v10zm4 0h-2v-4h2v4z\"/>\n",
              "    </g>\n",
              "</svg>\n",
              "  </button>\n",
              "\n",
              "<style>\n",
              "  .colab-df-quickchart {\n",
              "      --bg-color: #E8F0FE;\n",
              "      --fill-color: #1967D2;\n",
              "      --hover-bg-color: #E2EBFA;\n",
              "      --hover-fill-color: #174EA6;\n",
              "      --disabled-fill-color: #AAA;\n",
              "      --disabled-bg-color: #DDD;\n",
              "  }\n",
              "\n",
              "  [theme=dark] .colab-df-quickchart {\n",
              "      --bg-color: #3B4455;\n",
              "      --fill-color: #D2E3FC;\n",
              "      --hover-bg-color: #434B5C;\n",
              "      --hover-fill-color: #FFFFFF;\n",
              "      --disabled-bg-color: #3B4455;\n",
              "      --disabled-fill-color: #666;\n",
              "  }\n",
              "\n",
              "  .colab-df-quickchart {\n",
              "    background-color: var(--bg-color);\n",
              "    border: none;\n",
              "    border-radius: 50%;\n",
              "    cursor: pointer;\n",
              "    display: none;\n",
              "    fill: var(--fill-color);\n",
              "    height: 32px;\n",
              "    padding: 0;\n",
              "    width: 32px;\n",
              "  }\n",
              "\n",
              "  .colab-df-quickchart:hover {\n",
              "    background-color: var(--hover-bg-color);\n",
              "    box-shadow: 0 1px 2px rgba(60, 64, 67, 0.3), 0 1px 3px 1px rgba(60, 64, 67, 0.15);\n",
              "    fill: var(--button-hover-fill-color);\n",
              "  }\n",
              "\n",
              "  .colab-df-quickchart-complete:disabled,\n",
              "  .colab-df-quickchart-complete:disabled:hover {\n",
              "    background-color: var(--disabled-bg-color);\n",
              "    fill: var(--disabled-fill-color);\n",
              "    box-shadow: none;\n",
              "  }\n",
              "\n",
              "  .colab-df-spinner {\n",
              "    border: 2px solid var(--fill-color);\n",
              "    border-color: transparent;\n",
              "    border-bottom-color: var(--fill-color);\n",
              "    animation:\n",
              "      spin 1s steps(1) infinite;\n",
              "  }\n",
              "\n",
              "  @keyframes spin {\n",
              "    0% {\n",
              "      border-color: transparent;\n",
              "      border-bottom-color: var(--fill-color);\n",
              "      border-left-color: var(--fill-color);\n",
              "    }\n",
              "    20% {\n",
              "      border-color: transparent;\n",
              "      border-left-color: var(--fill-color);\n",
              "      border-top-color: var(--fill-color);\n",
              "    }\n",
              "    30% {\n",
              "      border-color: transparent;\n",
              "      border-left-color: var(--fill-color);\n",
              "      border-top-color: var(--fill-color);\n",
              "      border-right-color: var(--fill-color);\n",
              "    }\n",
              "    40% {\n",
              "      border-color: transparent;\n",
              "      border-right-color: var(--fill-color);\n",
              "      border-top-color: var(--fill-color);\n",
              "    }\n",
              "    60% {\n",
              "      border-color: transparent;\n",
              "      border-right-color: var(--fill-color);\n",
              "    }\n",
              "    80% {\n",
              "      border-color: transparent;\n",
              "      border-right-color: var(--fill-color);\n",
              "      border-bottom-color: var(--fill-color);\n",
              "    }\n",
              "    90% {\n",
              "      border-color: transparent;\n",
              "      border-bottom-color: var(--fill-color);\n",
              "    }\n",
              "  }\n",
              "</style>\n",
              "\n",
              "  <script>\n",
              "    async function quickchart(key) {\n",
              "      const quickchartButtonEl =\n",
              "        document.querySelector('#' + key + ' button');\n",
              "      quickchartButtonEl.disabled = true;  // To prevent multiple clicks.\n",
              "      quickchartButtonEl.classList.add('colab-df-spinner');\n",
              "      try {\n",
              "        const charts = await google.colab.kernel.invokeFunction(\n",
              "            'suggestCharts', [key], {});\n",
              "      } catch (error) {\n",
              "        console.error('Error during call to suggestCharts:', error);\n",
              "      }\n",
              "      quickchartButtonEl.classList.remove('colab-df-spinner');\n",
              "      quickchartButtonEl.classList.add('colab-df-quickchart-complete');\n",
              "    }\n",
              "    (() => {\n",
              "      let quickchartButtonEl =\n",
              "        document.querySelector('#df-b5d0d089-336e-4746-87da-2132acb25b56 button');\n",
              "      quickchartButtonEl.style.display =\n",
              "        google.colab.kernel.accessAllowed ? 'block' : 'none';\n",
              "    })();\n",
              "  </script>\n",
              "</div>\n",
              "\n",
              "    </div>\n",
              "  </div>\n"
            ],
            "application/vnd.google.colaboratory.intrinsic+json": {
              "type": "dataframe",
              "summary": "{\n  \"name\": \"df\",\n  \"rows\": 8,\n  \"fields\": [\n    {\n      \"column\": \"rating\",\n      \"properties\": {\n        \"dtype\": \"number\",\n        \"std\": 352.28616943164593,\n        \"min\": 0.8048277752089249,\n        \"max\": 1000.0,\n        \"num_unique_values\": 6,\n        \"samples\": [\n          1000.0,\n          4.37,\n          5.0\n        ],\n        \"semantic_type\": \"\",\n        \"description\": \"\"\n      }\n    },\n    {\n      \"column\": \"year\",\n      \"properties\": {\n        \"dtype\": \"number\",\n        \"std\": 753.9078825037554,\n        \"min\": 0.600470286162908,\n        \"max\": 2024.0,\n        \"num_unique_values\": 5,\n        \"samples\": [\n          2023.714,\n          2024.0,\n          0.600470286162908\n        ],\n        \"semantic_type\": \"\",\n        \"description\": \"\"\n      }\n    },\n    {\n      \"column\": \"helpful_count\",\n      \"properties\": {\n        \"dtype\": \"number\",\n        \"std\": 488.80092234292545,\n        \"min\": 0.0,\n        \"max\": 1128.0,\n        \"num_unique_values\": 6,\n        \"samples\": [\n          1000.0,\n          10.184,\n          1128.0\n        ],\n        \"semantic_type\": \"\",\n        \"description\": \"\"\n      }\n    }\n  ]\n}"
            }
          },
          "metadata": {},
          "execution_count": 36
        }
      ]
    },
    {
      "cell_type": "markdown",
      "source": [
        "### 5.2 Visualizations"
      ],
      "metadata": {
        "id": "sV0UqGEFgLeB"
      }
    },
    {
      "cell_type": "markdown",
      "source": [
        "**Chart 1.**\n",
        "\n",
        "- This chart illustrates the rating distribution for each product, allowing us to compare their performance against one another. By analyzing this data, we gain valuable insights into customer sentiment toward the products under review, helping us identify strengths and areas for improvement.\n"
      ],
      "metadata": {
        "id": "oJJdr2bAKjod"
      }
    },
    {
      "cell_type": "code",
      "source": [
        "import matplotlib.pyplot as plt\n",
        "import seaborn as sns"
      ],
      "metadata": {
        "id": "NcZh96Su5xbt"
      },
      "execution_count": null,
      "outputs": []
    },
    {
      "cell_type": "code",
      "source": [
        "sns.boxplot(x='product_id', y='rating', data=df)\n",
        "plt.title('Rating distribution of each product.')\n",
        "plt.xlabel('Amazon Standard Identification Number')\n",
        "plt.ylabel('Rating')\n",
        "plt.xticks(rotation=90)\n",
        "plt.show()"
      ],
      "metadata": {
        "id": "YBuvgi_igOIz",
        "colab": {
          "base_uri": "https://localhost:8080/",
          "height": 560
        },
        "outputId": "bb92cb5f-8b5a-4577-fee1-8bedf47b97ee"
      },
      "execution_count": null,
      "outputs": [
        {
          "output_type": "display_data",
          "data": {
            "text/plain": [
              "<Figure size 640x480 with 1 Axes>"
            ],
            "image/png": "[encoded data removed]"
          },
          "metadata": {}
        }
      ]
    },
    {
      "cell_type": "markdown",
      "source": [
        "**Chart 2.**\n",
        "\n",
        "- This chart displays the distribution of upvotes across the reviews. While most products have evenly distributed upvotes, the Google Pixel Buds Pro stands out with 10 times more upvotes for reviews with a 1-star rating. This suggests a strong negative sentiment toward the product, as users are amplifying the negative feedback."
      ],
      "metadata": {
        "id": "wbit_s5_KoSm"
      }
    },
    {
      "cell_type": "code",
      "source": [
        "# Pivot the DataFrame to get the structure needed for the heatmap\n",
        "heatmap_data = df.pivot_table(index='rating', columns='product_id', values='helpful_count')\n",
        "\n",
        "# Plot the heatmap\n",
        "plt.figure(figsize=(10, 8))\n",
        "sns.heatmap(heatmap_data, cmap='cividis', annot=True, fmt=\"g\")  # 'annot=True' will display the values in the heatmap cells\n",
        "plt.title('Heatmap of Helpful Count by Product ID and Rating')\n",
        "plt.xlabel('Product ID')\n",
        "plt.ylabel('Rating')\n",
        "plt.show()"
      ],
      "metadata": {
        "colab": {
          "base_uri": "https://localhost:8080/",
          "height": 806
        },
        "id": "9pQ72SQf6BKO",
        "outputId": "ed87efa1-7b52-4305-906d-ad596764ce6d"
      },
      "execution_count": null,
      "outputs": [
        {
          "output_type": "display_data",
          "data": {
            "text/plain": [
              "<Figure size 1000x800 with 2 Axes>"
            ],
            "image/png": "[encoded data removed]"
          },
          "metadata": {}
        }
      ]
    },
    {
      "cell_type": "markdown",
      "source": [
        "**Chart 3.**\n",
        "\n",
        "- This chart illustrates the correlation between the variables Year, Rating, and Helpful Count. The analysis reveals that there is little to no correlation between these factors, indicating that these variables do not significantly influence each other in the context of the data analyzed.\n",
        "\n",
        "\n",
        "\n",
        "\n",
        "\n",
        "\n"
      ],
      "metadata": {
        "id": "2ZuT7L35KtLc"
      }
    },
    {
      "cell_type": "code",
      "source": [
        "import numpy as np"
      ],
      "metadata": {
        "id": "oQ_hAaVr6D9Y"
      },
      "execution_count": null,
      "outputs": []
    },
    {
      "cell_type": "code",
      "source": [
        "data = df[[\"year\", \"rating\", \"helpful_count\"]].values\n",
        "corr_matrix = np.corrcoef(data, rowvar=False)\n",
        "sns.heatmap(corr_matrix, cmap='cividis', annot=True, xticklabels=[\"Year\", \"Rating\", \"Helpful Count\"], yticklabels=[\"Year\", \"Rating\", \"Helpful Count\"])\n",
        "plt.title(\"Correlation Matrix\")\n",
        "plt.show()"
      ],
      "metadata": {
        "colab": {
          "base_uri": "https://localhost:8080/",
          "height": 452
        },
        "id": "nT4NHa4P6F0z",
        "outputId": "13f725fc-7022-4e81-b33a-6fac28f16e04"
      },
      "execution_count": null,
      "outputs": [
        {
          "output_type": "display_data",
          "data": {
            "text/plain": [
              "<Figure size 640x480 with 2 Axes>"
            ],
            "image/png": "[encoded data removed]"
          },
          "metadata": {}
        }
      ]
    },
    {
      "cell_type": "markdown",
      "source": [
        "### 5.3 Descriptive Statistics"
      ],
      "metadata": {
        "id": "MPeXScFFgOuZ"
      }
    },
    {
      "cell_type": "markdown",
      "source": [
        "- The analysis shows that the data is of high quality, with minimal anomalies detected. The consistency across the dataset suggests reliable and accurate information, providing a solid foundation for further analysis and insights. This reliability ensures that the conclusions drawn from the data will be well-supported and trustworthy.\n"
      ],
      "metadata": {
        "id": "Rp6N9_l5OWLk"
      }
    },
    {
      "cell_type": "markdown",
      "source": [
        "## 6. Sentiment Analysis\n",
        "\n",
        "### 6.1 Methodology"
      ],
      "metadata": {
        "id": "-iMv0E-wgRcc"
      }
    },
    {
      "cell_type": "markdown",
      "source": [
        "- The sentiment of the reviews was analyzed using the Natural Language Toolkit (NLTK), providing a comprehensive assessment of customer feedback. The sentiment scores were averaged for each product, and the results are visually represented in Chart 4. This chart offers a clear overview of how customers feel about each product, highlighting overall sentiment trends. These insights are crucial for understanding customer satisfaction and identifying areas where improvements may be needed."
      ],
      "metadata": {
        "id": "zZcxtLsMOx3R"
      }
    },
    {
      "cell_type": "code",
      "source": [
        "import nltk\n",
        "from nltk.sentiment import SentimentIntensityAnalyzer\n",
        "nltk.download('vader_lexicon')\n",
        "sia = SentimentIntensityAnalyzer()"
      ],
      "metadata": {
        "colab": {
          "base_uri": "https://localhost:8080/"
        },
        "id": "PBGBwZD66Iec",
        "outputId": "ba5fc6ca-1353-4bcb-b284-fd3f885982a9"
      },
      "execution_count": null,
      "outputs": [
        {
          "output_type": "stream",
          "name": "stderr",
          "text": [
            "[nltk_data] Downloading package vader_lexicon to /root/nltk_data...\n"
          ]
        }
      ]
    },
    {
      "cell_type": "code",
      "source": [
        "text = \"I love my new Beats headphones! They have great sound quality.\"\n",
        "sentiment = sia.polarity_scores(text)\n",
        "print(sentiment)"
      ],
      "metadata": {
        "id": "3CdtKnwPgThE",
        "colab": {
          "base_uri": "https://localhost:8080/"
        },
        "outputId": "f03977d9-1709-4f4e-f591-f7659d4af562"
      },
      "execution_count": null,
      "outputs": [
        {
          "output_type": "stream",
          "name": "stdout",
          "text": [
            "{'neg': 0.0, 'neu': 0.482, 'pos': 0.518, 'compound': 0.8622}\n"
          ]
        }
      ]
    },
    {
      "cell_type": "code",
      "source": [
        "hash_map = {}\n",
        "for product_id in df[\"product_id\"].unique():\n",
        "  hash_map[product_id]=[]\n",
        "  mask = df[\"product_id\"] == product_id\n",
        "  df.loc[mask, \"sentiment\"] = df.loc[mask, \"content\"].apply(lambda x: sia.polarity_scores(x))\n",
        "  hash_map[product_id] = df.loc[mask, \"sentiment\"].values"
      ],
      "metadata": {
        "id": "lMbaMJ946Rtx"
      },
      "execution_count": null,
      "outputs": []
    },
    {
      "cell_type": "code",
      "source": [
        "average_hash_map = {}\n",
        "for product_id in hash_map:\n",
        "  neq, neu, pos, compound = 0, 0, 0, 0\n",
        "  for sentiment in hash_map[product_id]:\n",
        "    neq += sentiment[\"neg\"]\n",
        "    neu += sentiment[\"neu\"]\n",
        "    pos += sentiment[\"pos\"]\n",
        "    compound += sentiment[\"compound\"]\n",
        "  neq /= len(hash_map[product_id])\n",
        "  neu /= len(hash_map[product_id])\n",
        "  pos /= len(hash_map[product_id])\n",
        "  compound /= len(hash_map[product_id])\n",
        "  average_hash_map[product_id] = [neq, neu, pos, compound]"
      ],
      "metadata": {
        "id": "Zif1S5vB6LG0"
      },
      "execution_count": null,
      "outputs": []
    },
    {
      "cell_type": "markdown",
      "source": [
        "**Chart 4.**"
      ],
      "metadata": {
        "id": "pAq9U-uZPRX8"
      }
    },
    {
      "cell_type": "code",
      "source": [
        "nltk_df = pd.DataFrame(average_hash_map).T\n",
        "nltk_df.columns = [\"Neq.\", \"Neu.\", \"Pos.\", \"Compound.\"]\n",
        "nltk_df = nltk_df.reset_index().rename(columns={\"index\": \"Product_ID\"})\n",
        "df_melted = nltk_df.melt(id_vars=\"Product_ID\", var_name=\"Metrics\", value_name=\"Values\")\n",
        "custom_palette = sns.color_palette(\"Set1\")\n",
        "sns.barplot(data=df_melted, x=\"Product_ID\", y=\"Values\", hue=\"Metrics\", palette=custom_palette)\n",
        "plt.title(\"Metrics by ASIN.\")\n",
        "plt.xlabel(\"ASIN.\")\n",
        "plt.ylabel(\"Metrics.\")\n",
        "plt.xticks(rotation=90)\n",
        "plt.show()"
      ],
      "metadata": {
        "colab": {
          "base_uri": "https://localhost:8080/",
          "height": 595
        },
        "id": "0_mW72oA6Vsx",
        "outputId": "4e1fdfa2-5516-4a6d-a204-367e3d3aac56"
      },
      "execution_count": null,
      "outputs": [
        {
          "output_type": "stream",
          "name": "stderr",
          "text": [
            "<ipython-input-47-c003108a0776>:6: UserWarning: The palette list has more values (9) than needed (4), which may not be intended.\n",
            "  sns.barplot(data=df_melted, x=\"Product_ID\", y=\"Values\", hue=\"Metrics\", palette=custom_palette)\n"
          ]
        },
        {
          "output_type": "display_data",
          "data": {
            "text/plain": [
              "<Figure size 640x480 with 1 Axes>"
            ],
            "image/png": "[encoded data removed]"
          },
          "metadata": {}
        }
      ]
    },
    {
      "cell_type": "markdown",
      "source": [
        "**B07PXGQC1Q**: Apple AirPods. (2nd Generation)\n",
        "**B0D1WXVQTN**: Apple AirPods. (3rd Generation)\n",
        "**B0D1XD1ZV3**: Apple AirPods Pro. (2nd Generation)\n",
        "**B0C2WD567R**: Beats Studio Buds +.\n",
        "**B0B4PSQHD5**: Bose QuietComfort Earbuds II.\n",
        "**B0B1N7RT74**: Google Pixel Buds Pro.\n",
        "**B09V9X91ZP**: JBL Live Free 2.\n",
        "**B09V9P5Q6W**: JBL Live Pro TWS 2.\n",
        "**B09CGM1BWH**: Soundcore Liberty 3 Pro.\n",
        "**B0C1QNRGHC**: JBL Tune Flex."
      ],
      "metadata": {
        "id": "phoMgZwR6hjU"
      }
    },
    {
      "cell_type": "markdown",
      "source": [
        "### 6.2 Results"
      ],
      "metadata": {
        "id": "0DBNIEkXgkQl"
      }
    },
    {
      "cell_type": "markdown",
      "source": [
        "- The majority of earphones received consistently high ratings, indicating overall customer satisfaction. However, the Bose QuietComfort Earbuds 2 and Soundcore Liberty 3 Pro show a broader range in their ratings, suggesting mixed experiences among users. This variability highlights potential inconsistencies in performance or user expectations that may warrant further investigation.\n",
        "- Upvote distribution across reviews is generally low and evenly spread, reflecting typical engagement levels. However, there is a notable outlier: the Google Pixel Buds Pro. This product received over 300 upvotes on a specific review, which is more than 10 times the average upvote count of around 25. This significant disparity suggests a strong customer reaction, likely tied to a particularly impactful review, which could be either highly positive or negative, and merits closer examination.\n"
      ],
      "metadata": {
        "id": "ylfAr_RB6l8_"
      }
    },
    {
      "cell_type": "markdown",
      "source": [
        "## 7. AI-Generated Insights\n",
        "\n",
        "### 7.1 Using Gemini AI"
      ],
      "metadata": {
        "id": "DNwZT81EgnZx"
      }
    },
    {
      "cell_type": "markdown",
      "source": [
        "**Example Prompts.**\n",
        "\n",
        "1. \"According to the following reviews, what are the main issues associated with this product? Give a concise answer with bullet points. Use 10 bullet points, rank it from the highest priority to the lowest priority. Be concise, don't return any text except those 10 bullet points.\" **+ product reviews.**\n",
        "2. \"According to the following reviews, what are the unofficial feature requests that the consumers have made in the reviews? This can include a consumer saying it would have beein much better if the feature X was added or some aspect of the product has been changed. Give a concise answer with bullet points. Use 10 bullet points, rank it from the highest priority to the lowest priority. Be concise, don't return any text except those 10 bullet points.\" **+ product reviews.**\n",
        "3. \"According to the following reviews, what are the best things in the customers minds about this product? Give a concise answer with bullet points. Use 10 bullet points, rank it from the highest priority to the lowest priority. Be concise, don't return any text except those 10 bullet points.\" **+ product reviews.**"
      ],
      "metadata": {
        "id": "kHN45Ow38x6f"
      }
    },
    {
      "cell_type": "markdown",
      "source": [
        "### 7.2 Key Insights"
      ],
      "metadata": {
        "id": "Ytb0BYEqgpfB"
      }
    },
    {
      "cell_type": "markdown",
      "source": [
        "**Response 1.**\n",
        "\n",
        "-  Earbuds frequently disconnect from iPhone and require manual reconnection.\n",
        "-  Left earbud experiences thumping noise in noise cancelling or transparency mode.\n",
        "-  Difficult to remove earbuds from the case due to their low profile.\n",
        "-  Earbuds fall out of ears easily, especially during exercise or sweating.\n",
        "-  Inconsistent microphone performance during phone calls.\n",
        "-  No wireless charging option.\n",
        "-  Earbuds don't automatically pause playback when removed from ears.\n",
        "-  Earbuds randomly connect to phone while in the case.\n",
        "-  Earbuds have a slippery texture, making them prone to dropping.\n",
        "-  No customizable EQ settings.\n",
        "\n",
        "**Response 2.**\n",
        "\n",
        "- Unreliable connection to iPhone, especially when pausing audio\n",
        "- Difficulty getting earbuds out of the case due to low profile design\n",
        "- Lack of wireless charging\n",
        "- No in-ear detection, so music doesn't pause when removing earbuds\n",
        "- Buds fall out of ears easily, especially during exercise\n",
        "- Microphone issues, making it hard for others to hear during phone calls\n",
        "- Randomly switching to transparency mode when putting one earbud in the case\n",
        "- Inconsistent noise cancellation, sometimes producing a humming sound\n",
        "- Earbuds are too smooth, making it difficult to grip and potentially leading to drops\n",
        "- No customizable EQ settings, limiting sound customization\n",
        "\n",
        "**Response 3.**\n",
        "\n",
        "- Excellent sound quality\n",
        "- Great noise cancellation\n",
        "- Long battery life\n",
        "- Comfortable fit\n",
        "- Seamless integration with Apple products\n",
        "- Strong Bluetooth connection\n",
        "- Touch controls\n",
        "- Transparency mode\n",
        "- Easy pairing\n",
        "- Good value for the price"
      ],
      "metadata": {
        "id": "DZfW3EafHAo3"
      }
    },
    {
      "cell_type": "markdown",
      "source": [
        "### 7.3 Interpretation"
      ],
      "metadata": {
        "id": "Xnipe_rYgvQG"
      }
    },
    {
      "cell_type": "markdown",
      "source": [
        "**Interpretation.**\n",
        "\n",
        "- The insights from the responses highlight key areas for improvement and strengths in Beats by Dre earbuds. Users commonly report issues with connectivity, comfort, and functionality, such as frequent disconnections, earbuds falling out, and the lack of features like wireless charging and customizable EQ settings. These problems suggest that improvements in design and technology are needed to meet consumer expectations. However, the earbuds are also praised for their excellent sound quality, noise cancellation, and seamless integration with Apple products, indicating that these strengths should be maintained and emphasized. Overall, addressing the identified weaknesses while promoting the product's positive aspects could enhance user satisfaction and market competitiveness."
      ],
      "metadata": {
        "id": "F4ishRevH5f_"
      }
    },
    {
      "cell_type": "markdown",
      "source": [
        "## 8. Comparative Analysis\n",
        "\n",
        "### 8.1 Competitor Overview"
      ],
      "metadata": {
        "id": "GERtyCkwgxYw"
      }
    },
    {
      "cell_type": "markdown",
      "source": [
        "**Competitors.**\n",
        "\n",
        "- **Apple AirPods (2nd Generation):** Entry-level earbuds, seamless Apple integration.\n",
        "- **Apple AirPods (3rd Generation):** Mid-range option, improved sound, balanced cost-performance.\n",
        "- **Apple AirPods Pro (2nd Generation):** Premium, advanced noise cancellation, top-tier Apple experience.\n",
        "- **Bose QuietComfort Earbuds II:** High-end, best-in-class noise cancellation, for audiophiles and travelers.\n",
        "- **Google Pixel Buds Pro:** Premium, designed for Android users, strong Google Assistant integration.\n",
        "- **JBL Live Free 2:** Mid-range, durable, reliable sound quality.\n",
        "- **JBL Live Pro TWS 2:** Feature-rich, active noise cancellation, better battery life.\n",
        "- **Soundcore Liberty 3 Pro:** Affordable, good sound and noise cancellation, value-focused.\n",
        "- **JBL Tune Flex:** Budget-friendly, decent sound, economical choice.\n"
      ],
      "metadata": {
        "id": "QgbK79Y3-0XY"
      }
    },
    {
      "cell_type": "markdown",
      "source": [
        "### 8.2 Comparison of Sentiments"
      ],
      "metadata": {
        "id": "AGLyuZ8ggyf7"
      }
    },
    {
      "cell_type": "markdown",
      "source": [
        "\n",
        "- The sentiment analysis for Beats by Dre (Product ID: B0C2WD567R) reveals a generally positive perception among users, particularly regarding its sound quality, noise cancellation, and battery life. Users also appreciate the comfortable fit and seamless integration with Apple products, along with a strong Bluetooth connection and touch controls. However, there are notable criticisms, including unreliable connection issues with iPhones, difficulty in removing the earbuds from the case, and the absence of wireless charging. Other concerns include the lack of in-ear detection, inconsistent noise cancellation, and microphone issues during calls. The slippery texture of the earbuds, which makes them prone to dropping, is also a frequently mentioned downside.\n",
        "\n",
        "- In comparison, Product B07PXGQC1Q is similarly praised for its integration with Apple devices, sound quality, battery life, and fit. However, it faces significant criticism for lacking active noise cancellation and being perceived as overpriced. Fit issues and limited customization options also contribute to the negative sentiment, along with concerns about diminishing battery life over time.\n",
        "\n",
        "- Product B0D1WXVQTN receives positive feedback for its sound quality, fit, and connectivity, as well as its impressive battery life. Nonetheless, it is criticized for fit issues, the absence of key features like wireless charging and noise cancellation, and concerns about its price relative to its feature set. Finally, Product B0D1XD1ZV3 is well-regarded for its sound quality, noise cancellation, and comfortable fit, but it is also noted for issues with fit, inconsistent noise cancellation, and problems with volume control.\n",
        "\n",
        "- Overall, while Beats by Dre excels in several key areas, it shares some common criticisms with its competitors, particularly regarding fit and connectivity issues."
      ],
      "metadata": {
        "id": "beFCV2F7QnMS"
      }
    },
    {
      "cell_type": "markdown",
      "source": [
        "### 8.3 SWOT Analysis"
      ],
      "metadata": {
        "id": "LEwiDwEZg4zK"
      }
    },
    {
      "cell_type": "markdown",
      "source": [
        "**Strengths.**\n",
        "- Excellent sound quality and noise cancellation.\n",
        "- Long battery life and comfortable fit.\n",
        "- Seamless integration with Apple products enhances user experience.\n",
        "\n",
        "**Weaknesses.**\n",
        "- Connection issues with iPhones and lack of wireless charging.\n",
        "- Difficulty in removing earbuds from the case and no in-ear detection.\n",
        "- Inconsistent microphone performance during calls.\n",
        "\n",
        "**Opportunities.**\n",
        "- Expanding customization options, including EQ settings and fit adjustments, could enhance user satisfaction.\n",
        "- Introducing wireless charging and improving connection stability can address key user complaints.\n",
        "\n",
        "**Threats.**\n",
        "- Competitors offer similar or better features, such as noise cancellation and fit options, at competitive prices.\n",
        "- Persistent connectivity and fit issues may erode customer loyalty and brand reputation.\n"
      ],
      "metadata": {
        "id": "SsVHBrdoQ6yB"
      }
    },
    {
      "cell_type": "markdown",
      "source": [
        "## 9. Strategic Recommendations\n",
        "\n",
        "### 9.1 Product Improvements"
      ],
      "metadata": {
        "id": "-cjwuRIbg9ud"
      }
    },
    {
      "cell_type": "markdown",
      "source": [
        "1. **Improve Connectivity with iPhones:**\n",
        "   - Enhance the stability of Bluetooth connections to minimize disconnections, especially when pausing or resuming audio.\n",
        "   - Introduce software updates or optimize the hardware to better handle connectivity with Apple devices.\n",
        "\n",
        "2. **Add Wireless Charging:**\n",
        "   - Incorporate wireless charging capabilities in the next iteration of the product to align with industry standards and meet user expectations.\n",
        "\n",
        "3. **Redesign the Earbud Case:**\n",
        "   - Modify the design of the charging case to make it easier for users to remove the earbuds, perhaps by adding a more pronounced grip or a push-to-eject mechanism.\n",
        "\n",
        "4. **Enhance Microphone Quality:**\n",
        "   - Improve the microphone design or software processing to ensure clearer voice transmission during calls, especially in noisy environments.\n",
        "\n",
        "5. **Introduce Customizable EQ Settings:**\n",
        "   - Offer a range of EQ settings or a customizable EQ option within the accompanying app to allow users to tailor the sound profile to their preferences.\n",
        "\n",
        "6. **Improve Fit and Comfort:**\n",
        "   - Offer additional ear tip sizes and materials, such as memory foam, to ensure a more secure and comfortable fit, particularly during physical activities.\n",
        "   - Consider designing optional ear hooks or wings for users who need extra stability.\n",
        "\n",
        "7. **Refine Noise Cancellation:**\n",
        "   - Work on making noise cancellation more consistent across different environments, reducing the instances of hum or inconsistent performance.\n",
        "\n",
        "8. **Add In-Ear Detection:**\n",
        "   - Incorporate sensors that automatically pause playback when the earbuds are removed from the ears, enhancing the overall user experience.\n"
      ],
      "metadata": {
        "id": "B1JaTyPHROTL"
      }
    },
    {
      "cell_type": "markdown",
      "source": [
        "### 9.2 Marketing Strategies"
      ],
      "metadata": {
        "id": "2bsNlkdlhBot"
      }
    },
    {
      "cell_type": "markdown",
      "source": [
        "1. **Highlight Improved Features in Marketing Campaigns:**\n",
        "   - Focus on promoting enhancements like improved connectivity, wireless charging, and customizable EQ settings in future marketing efforts.\n",
        "   - Use targeted advertising to emphasize these improvements, especially to current users and those who experienced issues with previous models.\n",
        "\n",
        "2. **Leverage Customer Testimonials and User Reviews:**\n",
        "   - Showcase positive customer feedback, especially around sound quality, noise cancellation, and integration with Apple products, in promotional materials.\n",
        "   - Use real user testimonials in social media campaigns to build trust and authenticity.\n",
        "\n",
        "3. **Promote Fitness-Friendly Design Enhancements:**\n",
        "   - Position the product as ideal for active lifestyles by emphasizing improvements in fit and comfort, particularly for exercise and sports use.\n",
        "   - Collaborate with fitness influencers and athletes to demonstrate the product's stability and comfort during physical activities.\n",
        "\n",
        "4. **Expand Educational Content:**\n",
        "   - Create tutorial videos and guides that explain how to optimize and customize the product, particularly the new EQ settings and noise cancellation features.\n",
        "   - Offer tips on maintaining a secure fit and getting the most out of the product’s features to enhance user satisfaction.\n",
        "\n",
        "5. **Offer Limited-Time Discounts and Bundles:**\n",
        "   - Introduce promotional discounts or bundle offers that include accessories like additional ear tips, wireless chargers, or protective cases to add value.\n",
        "   - Time these promotions around key shopping periods, such as holidays or product launch anniversaries.\n",
        "\n",
        "6. **Engage with Customers Through Social Media:**\n",
        "   - Encourage users to share their experiences and provide feedback on social media, fostering a community around the product.\n",
        "   - Host live Q&A sessions or webinars where users can interact with product experts and learn more about the features and benefits of the product.\n",
        "\n",
        "7. **Emphasize Sustainability and Durability:**\n",
        "   - Highlight any eco-friendly materials or practices used in the product’s design and manufacturing to appeal to environmentally conscious consumers.\n",
        "   - Promote the product’s durability and longevity as a key selling point, reinforcing the idea of a worthwhile investment.\n",
        "\n",
        "8. **Utilize Influencer Partnerships:**\n",
        "   - Partner with tech reviewers, musicians, and lifestyle influencers who align with the Beats brand to showcase the product’s features in real-world scenarios.\n",
        "   - Ensure these influencers provide authentic reviews and usage scenarios that resonate with target audiences.\n"
      ],
      "metadata": {
        "id": "3a4YJEfZSCM-"
      }
    },
    {
      "cell_type": "markdown",
      "source": [
        "### 9.3 Future Research"
      ],
      "metadata": {
        "id": "vmvfoXy_hG_d"
      }
    },
    {
      "cell_type": "markdown",
      "source": [
        "1. **Longitudinal Consumer Sentiment Analysis:**\n",
        "   - Conduct a longitudinal study to track changes in consumer sentiment over time, particularly before and after implementing product improvements. This would provide insights into how updates influence consumer satisfaction and brand loyalty.\n",
        "\n",
        "2. **Comparative Analysis Across Different Market Segments:**\n",
        "   - Analyze consumer sentiment across different demographic segments, such as age, gender, and geographic location. Understanding how different groups perceive the product could inform more targeted marketing and product development strategies.\n",
        "\n",
        "3. **Competitor Benchmarking:**\n",
        "   - Expand the analysis to include a broader range of competitors, particularly emerging brands or those with innovative features. This would help identify new trends and potential threats in the market.\n",
        "\n",
        "4. **Feature-Specific Feedback Collection:**\n",
        "   - Collect detailed consumer feedback on specific features, such as noise cancellation and EQ settings, to understand which aspects are most valued by users and where there is room for improvement.\n",
        "\n",
        "5. **Impact of Brand Perception on Purchasing Decisions:**\n",
        "   - Investigate how overall brand perception influences purchasing decisions, particularly in comparison to specific product features. This could provide insights into the importance of brand loyalty versus feature set in driving sales."
      ],
      "metadata": {
        "id": "Dr44We6nShUD"
      }
    },
    {
      "cell_type": "markdown",
      "source": [
        "## 10. Conclusion"
      ],
      "metadata": {
        "id": "6LrUwAGHhIsP"
      }
    },
    {
      "cell_type": "markdown",
      "source": [
        "- The sentiment analysis for Beats by Dre (Product ID: B0C2WD567R) revealed strong consumer appreciation for its sound quality, noise cancellation, and battery life, which are critical factors in user satisfaction. However, recurring issues with connectivity, fit, and lack of wireless charging emerged as significant pain points. These weaknesses highlight areas where product improvements are necessary to maintain competitiveness and meet consumer expectations.\n",
        "- Addressing the identified weaknesses, such as enhancing Bluetooth connectivity and adding wireless charging, could significantly boost user satisfaction and loyalty.\n",
        "- Improving fit and comfort, particularly for active users, can expand the product’s appeal to a broader market segment.\n",
        "- Customization options, like EQ settings, would allow Beats to cater to diverse user preferences, potentially increasing market share.\n",
        "- This project provided valuable insights into consumer sentiment regarding Beats by Dre, helping to identify both strengths to be emphasized in marketing and areas requiring product enhancement. The findings contribute to a deeper understanding of customer priorities, enabling more targeted product development and marketing strategies. By focusing on these consumer-driven insights, Beats by Dre can better align its offerings with customer needs, ultimately improving brand perception and market position.\n"
      ],
      "metadata": {
        "id": "cg6nmZYfSPzN"
      }
    }
  ]
}